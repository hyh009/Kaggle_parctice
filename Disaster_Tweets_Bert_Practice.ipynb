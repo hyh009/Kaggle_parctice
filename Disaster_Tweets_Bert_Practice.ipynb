{
  "nbformat": 4,
  "nbformat_minor": 0,
  "metadata": {
    "kernelspec": {
      "language": "python",
      "display_name": "Python 3",
      "name": "python3"
    },
    "language_info": {
      "name": "python",
      "version": "3.7.10",
      "mimetype": "text/x-python",
      "codemirror_mode": {
        "name": "ipython",
        "version": 3
      },
      "pygments_lexer": "ipython3",
      "nbconvert_exporter": "python",
      "file_extension": ".py"
    },
    "colab": {
      "name": "Disaster_Tweets_Bert-Practice.ipynb",
      "provenance": [],
      "collapsed_sections": [
        "vyX21dsWBiv1",
        "ImvTqHNuyWcb"
      ]
    },
    "widgets": {
      "application/vnd.jupyter.widget-state+json": {
        "e2254a64bd7140c1b1ae8557c693dc90": {
          "model_module": "@jupyter-widgets/controls",
          "model_name": "HBoxModel",
          "state": {
            "_view_name": "HBoxView",
            "_dom_classes": [],
            "_model_name": "HBoxModel",
            "_view_module": "@jupyter-widgets/controls",
            "_model_module_version": "1.5.0",
            "_view_count": null,
            "_view_module_version": "1.5.0",
            "box_style": "",
            "layout": "IPY_MODEL_8333344b9c864694be254547cf22a1b8",
            "_model_module": "@jupyter-widgets/controls",
            "children": [
              "IPY_MODEL_7becbca93be448f3a303832c5b0b5d8b",
              "IPY_MODEL_d076122ebcc94c908bccebc5bce3dfe2"
            ]
          }
        },
        "8333344b9c864694be254547cf22a1b8": {
          "model_module": "@jupyter-widgets/base",
          "model_name": "LayoutModel",
          "state": {
            "_view_name": "LayoutView",
            "grid_template_rows": null,
            "right": null,
            "justify_content": null,
            "_view_module": "@jupyter-widgets/base",
            "overflow": null,
            "_model_module_version": "1.2.0",
            "_view_count": null,
            "flex_flow": null,
            "width": null,
            "min_width": null,
            "border": null,
            "align_items": null,
            "bottom": null,
            "_model_module": "@jupyter-widgets/base",
            "top": null,
            "grid_column": null,
            "overflow_y": null,
            "overflow_x": null,
            "grid_auto_flow": null,
            "grid_area": null,
            "grid_template_columns": null,
            "flex": null,
            "_model_name": "LayoutModel",
            "justify_items": null,
            "grid_row": null,
            "max_height": null,
            "align_content": null,
            "visibility": null,
            "align_self": null,
            "height": null,
            "min_height": null,
            "padding": null,
            "grid_auto_rows": null,
            "grid_gap": null,
            "max_width": null,
            "order": null,
            "_view_module_version": "1.2.0",
            "grid_template_areas": null,
            "object_position": null,
            "object_fit": null,
            "grid_auto_columns": null,
            "margin": null,
            "display": null,
            "left": null
          }
        },
        "7becbca93be448f3a303832c5b0b5d8b": {
          "model_module": "@jupyter-widgets/controls",
          "model_name": "FloatProgressModel",
          "state": {
            "_view_name": "ProgressView",
            "style": "IPY_MODEL_0a8d8b8f5a964a4a9325f41bebc01bfe",
            "_dom_classes": [],
            "description": "Downloading: 100%",
            "_model_name": "FloatProgressModel",
            "bar_style": "success",
            "max": 213450,
            "_view_module": "@jupyter-widgets/controls",
            "_model_module_version": "1.5.0",
            "value": 213450,
            "_view_count": null,
            "_view_module_version": "1.5.0",
            "orientation": "horizontal",
            "min": 0,
            "description_tooltip": null,
            "_model_module": "@jupyter-widgets/controls",
            "layout": "IPY_MODEL_03dfc7127f684bec984f482d08d004d0"
          }
        },
        "d076122ebcc94c908bccebc5bce3dfe2": {
          "model_module": "@jupyter-widgets/controls",
          "model_name": "HTMLModel",
          "state": {
            "_view_name": "HTMLView",
            "style": "IPY_MODEL_18276247af774679b4013a892df7da58",
            "_dom_classes": [],
            "description": "",
            "_model_name": "HTMLModel",
            "placeholder": "​",
            "_view_module": "@jupyter-widgets/controls",
            "_model_module_version": "1.5.0",
            "value": " 213k/213k [00:02&lt;00:00, 97.6kB/s]",
            "_view_count": null,
            "_view_module_version": "1.5.0",
            "description_tooltip": null,
            "_model_module": "@jupyter-widgets/controls",
            "layout": "IPY_MODEL_718d699e0a9c43deb1927d9b5e4c790d"
          }
        },
        "0a8d8b8f5a964a4a9325f41bebc01bfe": {
          "model_module": "@jupyter-widgets/controls",
          "model_name": "ProgressStyleModel",
          "state": {
            "_view_name": "StyleView",
            "_model_name": "ProgressStyleModel",
            "description_width": "initial",
            "_view_module": "@jupyter-widgets/base",
            "_model_module_version": "1.5.0",
            "_view_count": null,
            "_view_module_version": "1.2.0",
            "bar_color": null,
            "_model_module": "@jupyter-widgets/controls"
          }
        },
        "03dfc7127f684bec984f482d08d004d0": {
          "model_module": "@jupyter-widgets/base",
          "model_name": "LayoutModel",
          "state": {
            "_view_name": "LayoutView",
            "grid_template_rows": null,
            "right": null,
            "justify_content": null,
            "_view_module": "@jupyter-widgets/base",
            "overflow": null,
            "_model_module_version": "1.2.0",
            "_view_count": null,
            "flex_flow": null,
            "width": null,
            "min_width": null,
            "border": null,
            "align_items": null,
            "bottom": null,
            "_model_module": "@jupyter-widgets/base",
            "top": null,
            "grid_column": null,
            "overflow_y": null,
            "overflow_x": null,
            "grid_auto_flow": null,
            "grid_area": null,
            "grid_template_columns": null,
            "flex": null,
            "_model_name": "LayoutModel",
            "justify_items": null,
            "grid_row": null,
            "max_height": null,
            "align_content": null,
            "visibility": null,
            "align_self": null,
            "height": null,
            "min_height": null,
            "padding": null,
            "grid_auto_rows": null,
            "grid_gap": null,
            "max_width": null,
            "order": null,
            "_view_module_version": "1.2.0",
            "grid_template_areas": null,
            "object_position": null,
            "object_fit": null,
            "grid_auto_columns": null,
            "margin": null,
            "display": null,
            "left": null
          }
        },
        "18276247af774679b4013a892df7da58": {
          "model_module": "@jupyter-widgets/controls",
          "model_name": "DescriptionStyleModel",
          "state": {
            "_view_name": "StyleView",
            "_model_name": "DescriptionStyleModel",
            "description_width": "",
            "_view_module": "@jupyter-widgets/base",
            "_model_module_version": "1.5.0",
            "_view_count": null,
            "_view_module_version": "1.2.0",
            "_model_module": "@jupyter-widgets/controls"
          }
        },
        "718d699e0a9c43deb1927d9b5e4c790d": {
          "model_module": "@jupyter-widgets/base",
          "model_name": "LayoutModel",
          "state": {
            "_view_name": "LayoutView",
            "grid_template_rows": null,
            "right": null,
            "justify_content": null,
            "_view_module": "@jupyter-widgets/base",
            "overflow": null,
            "_model_module_version": "1.2.0",
            "_view_count": null,
            "flex_flow": null,
            "width": null,
            "min_width": null,
            "border": null,
            "align_items": null,
            "bottom": null,
            "_model_module": "@jupyter-widgets/base",
            "top": null,
            "grid_column": null,
            "overflow_y": null,
            "overflow_x": null,
            "grid_auto_flow": null,
            "grid_area": null,
            "grid_template_columns": null,
            "flex": null,
            "_model_name": "LayoutModel",
            "justify_items": null,
            "grid_row": null,
            "max_height": null,
            "align_content": null,
            "visibility": null,
            "align_self": null,
            "height": null,
            "min_height": null,
            "padding": null,
            "grid_auto_rows": null,
            "grid_gap": null,
            "max_width": null,
            "order": null,
            "_view_module_version": "1.2.0",
            "grid_template_areas": null,
            "object_position": null,
            "object_fit": null,
            "grid_auto_columns": null,
            "margin": null,
            "display": null,
            "left": null
          }
        },
        "195959dc243444fa8ebe235f50c020cc": {
          "model_module": "@jupyter-widgets/controls",
          "model_name": "HBoxModel",
          "state": {
            "_view_name": "HBoxView",
            "_dom_classes": [],
            "_model_name": "HBoxModel",
            "_view_module": "@jupyter-widgets/controls",
            "_model_module_version": "1.5.0",
            "_view_count": null,
            "_view_module_version": "1.5.0",
            "box_style": "",
            "layout": "IPY_MODEL_0449328a0f3e4e95976d9f1da1da8d6f",
            "_model_module": "@jupyter-widgets/controls",
            "children": [
              "IPY_MODEL_e9cab7f93fe04d3ca3e7d5bd4a6db97a",
              "IPY_MODEL_c6f28ea7f8ee452481f96a4bb0ee3359"
            ]
          }
        },
        "0449328a0f3e4e95976d9f1da1da8d6f": {
          "model_module": "@jupyter-widgets/base",
          "model_name": "LayoutModel",
          "state": {
            "_view_name": "LayoutView",
            "grid_template_rows": null,
            "right": null,
            "justify_content": null,
            "_view_module": "@jupyter-widgets/base",
            "overflow": null,
            "_model_module_version": "1.2.0",
            "_view_count": null,
            "flex_flow": null,
            "width": null,
            "min_width": null,
            "border": null,
            "align_items": null,
            "bottom": null,
            "_model_module": "@jupyter-widgets/base",
            "top": null,
            "grid_column": null,
            "overflow_y": null,
            "overflow_x": null,
            "grid_auto_flow": null,
            "grid_area": null,
            "grid_template_columns": null,
            "flex": null,
            "_model_name": "LayoutModel",
            "justify_items": null,
            "grid_row": null,
            "max_height": null,
            "align_content": null,
            "visibility": null,
            "align_self": null,
            "height": null,
            "min_height": null,
            "padding": null,
            "grid_auto_rows": null,
            "grid_gap": null,
            "max_width": null,
            "order": null,
            "_view_module_version": "1.2.0",
            "grid_template_areas": null,
            "object_position": null,
            "object_fit": null,
            "grid_auto_columns": null,
            "margin": null,
            "display": null,
            "left": null
          }
        },
        "e9cab7f93fe04d3ca3e7d5bd4a6db97a": {
          "model_module": "@jupyter-widgets/controls",
          "model_name": "FloatProgressModel",
          "state": {
            "_view_name": "ProgressView",
            "style": "IPY_MODEL_e09224bcf84046f987e47b765330de1c",
            "_dom_classes": [],
            "description": "Downloading: 100%",
            "_model_name": "FloatProgressModel",
            "bar_style": "success",
            "max": 29,
            "_view_module": "@jupyter-widgets/controls",
            "_model_module_version": "1.5.0",
            "value": 29,
            "_view_count": null,
            "_view_module_version": "1.5.0",
            "orientation": "horizontal",
            "min": 0,
            "description_tooltip": null,
            "_model_module": "@jupyter-widgets/controls",
            "layout": "IPY_MODEL_3521c7aba9ac405b9b0ab34f525719ee"
          }
        },
        "c6f28ea7f8ee452481f96a4bb0ee3359": {
          "model_module": "@jupyter-widgets/controls",
          "model_name": "HTMLModel",
          "state": {
            "_view_name": "HTMLView",
            "style": "IPY_MODEL_c0aa6fc7a6684b52b94bae2c62f09efe",
            "_dom_classes": [],
            "description": "",
            "_model_name": "HTMLModel",
            "placeholder": "​",
            "_view_module": "@jupyter-widgets/controls",
            "_model_module_version": "1.5.0",
            "value": " 29.0/29.0 [00:00&lt;00:00, 38.3B/s]",
            "_view_count": null,
            "_view_module_version": "1.5.0",
            "description_tooltip": null,
            "_model_module": "@jupyter-widgets/controls",
            "layout": "IPY_MODEL_7f6a86cb835b407daa27b44f567e805b"
          }
        },
        "e09224bcf84046f987e47b765330de1c": {
          "model_module": "@jupyter-widgets/controls",
          "model_name": "ProgressStyleModel",
          "state": {
            "_view_name": "StyleView",
            "_model_name": "ProgressStyleModel",
            "description_width": "initial",
            "_view_module": "@jupyter-widgets/base",
            "_model_module_version": "1.5.0",
            "_view_count": null,
            "_view_module_version": "1.2.0",
            "bar_color": null,
            "_model_module": "@jupyter-widgets/controls"
          }
        },
        "3521c7aba9ac405b9b0ab34f525719ee": {
          "model_module": "@jupyter-widgets/base",
          "model_name": "LayoutModel",
          "state": {
            "_view_name": "LayoutView",
            "grid_template_rows": null,
            "right": null,
            "justify_content": null,
            "_view_module": "@jupyter-widgets/base",
            "overflow": null,
            "_model_module_version": "1.2.0",
            "_view_count": null,
            "flex_flow": null,
            "width": null,
            "min_width": null,
            "border": null,
            "align_items": null,
            "bottom": null,
            "_model_module": "@jupyter-widgets/base",
            "top": null,
            "grid_column": null,
            "overflow_y": null,
            "overflow_x": null,
            "grid_auto_flow": null,
            "grid_area": null,
            "grid_template_columns": null,
            "flex": null,
            "_model_name": "LayoutModel",
            "justify_items": null,
            "grid_row": null,
            "max_height": null,
            "align_content": null,
            "visibility": null,
            "align_self": null,
            "height": null,
            "min_height": null,
            "padding": null,
            "grid_auto_rows": null,
            "grid_gap": null,
            "max_width": null,
            "order": null,
            "_view_module_version": "1.2.0",
            "grid_template_areas": null,
            "object_position": null,
            "object_fit": null,
            "grid_auto_columns": null,
            "margin": null,
            "display": null,
            "left": null
          }
        },
        "c0aa6fc7a6684b52b94bae2c62f09efe": {
          "model_module": "@jupyter-widgets/controls",
          "model_name": "DescriptionStyleModel",
          "state": {
            "_view_name": "StyleView",
            "_model_name": "DescriptionStyleModel",
            "description_width": "",
            "_view_module": "@jupyter-widgets/base",
            "_model_module_version": "1.5.0",
            "_view_count": null,
            "_view_module_version": "1.2.0",
            "_model_module": "@jupyter-widgets/controls"
          }
        },
        "7f6a86cb835b407daa27b44f567e805b": {
          "model_module": "@jupyter-widgets/base",
          "model_name": "LayoutModel",
          "state": {
            "_view_name": "LayoutView",
            "grid_template_rows": null,
            "right": null,
            "justify_content": null,
            "_view_module": "@jupyter-widgets/base",
            "overflow": null,
            "_model_module_version": "1.2.0",
            "_view_count": null,
            "flex_flow": null,
            "width": null,
            "min_width": null,
            "border": null,
            "align_items": null,
            "bottom": null,
            "_model_module": "@jupyter-widgets/base",
            "top": null,
            "grid_column": null,
            "overflow_y": null,
            "overflow_x": null,
            "grid_auto_flow": null,
            "grid_area": null,
            "grid_template_columns": null,
            "flex": null,
            "_model_name": "LayoutModel",
            "justify_items": null,
            "grid_row": null,
            "max_height": null,
            "align_content": null,
            "visibility": null,
            "align_self": null,
            "height": null,
            "min_height": null,
            "padding": null,
            "grid_auto_rows": null,
            "grid_gap": null,
            "max_width": null,
            "order": null,
            "_view_module_version": "1.2.0",
            "grid_template_areas": null,
            "object_position": null,
            "object_fit": null,
            "grid_auto_columns": null,
            "margin": null,
            "display": null,
            "left": null
          }
        },
        "785e31464237419297bff313c6e09a5d": {
          "model_module": "@jupyter-widgets/controls",
          "model_name": "HBoxModel",
          "state": {
            "_view_name": "HBoxView",
            "_dom_classes": [],
            "_model_name": "HBoxModel",
            "_view_module": "@jupyter-widgets/controls",
            "_model_module_version": "1.5.0",
            "_view_count": null,
            "_view_module_version": "1.5.0",
            "box_style": "",
            "layout": "IPY_MODEL_918ab69cbc5a41e3a50d0db49c0ddf56",
            "_model_module": "@jupyter-widgets/controls",
            "children": [
              "IPY_MODEL_0edb89146b684a1981a8e39e4e88c336",
              "IPY_MODEL_95da4414f439476ba246defd5b0a7bb2"
            ]
          }
        },
        "918ab69cbc5a41e3a50d0db49c0ddf56": {
          "model_module": "@jupyter-widgets/base",
          "model_name": "LayoutModel",
          "state": {
            "_view_name": "LayoutView",
            "grid_template_rows": null,
            "right": null,
            "justify_content": null,
            "_view_module": "@jupyter-widgets/base",
            "overflow": null,
            "_model_module_version": "1.2.0",
            "_view_count": null,
            "flex_flow": null,
            "width": null,
            "min_width": null,
            "border": null,
            "align_items": null,
            "bottom": null,
            "_model_module": "@jupyter-widgets/base",
            "top": null,
            "grid_column": null,
            "overflow_y": null,
            "overflow_x": null,
            "grid_auto_flow": null,
            "grid_area": null,
            "grid_template_columns": null,
            "flex": null,
            "_model_name": "LayoutModel",
            "justify_items": null,
            "grid_row": null,
            "max_height": null,
            "align_content": null,
            "visibility": null,
            "align_self": null,
            "height": null,
            "min_height": null,
            "padding": null,
            "grid_auto_rows": null,
            "grid_gap": null,
            "max_width": null,
            "order": null,
            "_view_module_version": "1.2.0",
            "grid_template_areas": null,
            "object_position": null,
            "object_fit": null,
            "grid_auto_columns": null,
            "margin": null,
            "display": null,
            "left": null
          }
        },
        "0edb89146b684a1981a8e39e4e88c336": {
          "model_module": "@jupyter-widgets/controls",
          "model_name": "FloatProgressModel",
          "state": {
            "_view_name": "ProgressView",
            "style": "IPY_MODEL_0937e8faec074489b8e70c4a277bce33",
            "_dom_classes": [],
            "description": "Downloading: 100%",
            "_model_name": "FloatProgressModel",
            "bar_style": "success",
            "max": 435797,
            "_view_module": "@jupyter-widgets/controls",
            "_model_module_version": "1.5.0",
            "value": 435797,
            "_view_count": null,
            "_view_module_version": "1.5.0",
            "orientation": "horizontal",
            "min": 0,
            "description_tooltip": null,
            "_model_module": "@jupyter-widgets/controls",
            "layout": "IPY_MODEL_aee6849f22ab4eb8b7091d538c02f9bd"
          }
        },
        "95da4414f439476ba246defd5b0a7bb2": {
          "model_module": "@jupyter-widgets/controls",
          "model_name": "HTMLModel",
          "state": {
            "_view_name": "HTMLView",
            "style": "IPY_MODEL_c65509c6f6274472b897a3e7ef7bd370",
            "_dom_classes": [],
            "description": "",
            "_model_name": "HTMLModel",
            "placeholder": "​",
            "_view_module": "@jupyter-widgets/controls",
            "_model_module_version": "1.5.0",
            "value": " 436k/436k [00:00&lt;00:00, 2.60MB/s]",
            "_view_count": null,
            "_view_module_version": "1.5.0",
            "description_tooltip": null,
            "_model_module": "@jupyter-widgets/controls",
            "layout": "IPY_MODEL_cc0c93edf89b43b5b78416a3854c0c71"
          }
        },
        "0937e8faec074489b8e70c4a277bce33": {
          "model_module": "@jupyter-widgets/controls",
          "model_name": "ProgressStyleModel",
          "state": {
            "_view_name": "StyleView",
            "_model_name": "ProgressStyleModel",
            "description_width": "initial",
            "_view_module": "@jupyter-widgets/base",
            "_model_module_version": "1.5.0",
            "_view_count": null,
            "_view_module_version": "1.2.0",
            "bar_color": null,
            "_model_module": "@jupyter-widgets/controls"
          }
        },
        "aee6849f22ab4eb8b7091d538c02f9bd": {
          "model_module": "@jupyter-widgets/base",
          "model_name": "LayoutModel",
          "state": {
            "_view_name": "LayoutView",
            "grid_template_rows": null,
            "right": null,
            "justify_content": null,
            "_view_module": "@jupyter-widgets/base",
            "overflow": null,
            "_model_module_version": "1.2.0",
            "_view_count": null,
            "flex_flow": null,
            "width": null,
            "min_width": null,
            "border": null,
            "align_items": null,
            "bottom": null,
            "_model_module": "@jupyter-widgets/base",
            "top": null,
            "grid_column": null,
            "overflow_y": null,
            "overflow_x": null,
            "grid_auto_flow": null,
            "grid_area": null,
            "grid_template_columns": null,
            "flex": null,
            "_model_name": "LayoutModel",
            "justify_items": null,
            "grid_row": null,
            "max_height": null,
            "align_content": null,
            "visibility": null,
            "align_self": null,
            "height": null,
            "min_height": null,
            "padding": null,
            "grid_auto_rows": null,
            "grid_gap": null,
            "max_width": null,
            "order": null,
            "_view_module_version": "1.2.0",
            "grid_template_areas": null,
            "object_position": null,
            "object_fit": null,
            "grid_auto_columns": null,
            "margin": null,
            "display": null,
            "left": null
          }
        },
        "c65509c6f6274472b897a3e7ef7bd370": {
          "model_module": "@jupyter-widgets/controls",
          "model_name": "DescriptionStyleModel",
          "state": {
            "_view_name": "StyleView",
            "_model_name": "DescriptionStyleModel",
            "description_width": "",
            "_view_module": "@jupyter-widgets/base",
            "_model_module_version": "1.5.0",
            "_view_count": null,
            "_view_module_version": "1.2.0",
            "_model_module": "@jupyter-widgets/controls"
          }
        },
        "cc0c93edf89b43b5b78416a3854c0c71": {
          "model_module": "@jupyter-widgets/base",
          "model_name": "LayoutModel",
          "state": {
            "_view_name": "LayoutView",
            "grid_template_rows": null,
            "right": null,
            "justify_content": null,
            "_view_module": "@jupyter-widgets/base",
            "overflow": null,
            "_model_module_version": "1.2.0",
            "_view_count": null,
            "flex_flow": null,
            "width": null,
            "min_width": null,
            "border": null,
            "align_items": null,
            "bottom": null,
            "_model_module": "@jupyter-widgets/base",
            "top": null,
            "grid_column": null,
            "overflow_y": null,
            "overflow_x": null,
            "grid_auto_flow": null,
            "grid_area": null,
            "grid_template_columns": null,
            "flex": null,
            "_model_name": "LayoutModel",
            "justify_items": null,
            "grid_row": null,
            "max_height": null,
            "align_content": null,
            "visibility": null,
            "align_self": null,
            "height": null,
            "min_height": null,
            "padding": null,
            "grid_auto_rows": null,
            "grid_gap": null,
            "max_width": null,
            "order": null,
            "_view_module_version": "1.2.0",
            "grid_template_areas": null,
            "object_position": null,
            "object_fit": null,
            "grid_auto_columns": null,
            "margin": null,
            "display": null,
            "left": null
          }
        },
        "f6e31fcf474a42c5b90514bb16dcd506": {
          "model_module": "@jupyter-widgets/controls",
          "model_name": "HBoxModel",
          "state": {
            "_view_name": "HBoxView",
            "_dom_classes": [],
            "_model_name": "HBoxModel",
            "_view_module": "@jupyter-widgets/controls",
            "_model_module_version": "1.5.0",
            "_view_count": null,
            "_view_module_version": "1.5.0",
            "box_style": "",
            "layout": "IPY_MODEL_bed61aaf4b5f4dcead59d47a95b0ed77",
            "_model_module": "@jupyter-widgets/controls",
            "children": [
              "IPY_MODEL_9faaea5cf9124824b0b7495494b1f0f3",
              "IPY_MODEL_ab6c6913ac3b4b46be8024717a2e3cb1"
            ]
          }
        },
        "bed61aaf4b5f4dcead59d47a95b0ed77": {
          "model_module": "@jupyter-widgets/base",
          "model_name": "LayoutModel",
          "state": {
            "_view_name": "LayoutView",
            "grid_template_rows": null,
            "right": null,
            "justify_content": null,
            "_view_module": "@jupyter-widgets/base",
            "overflow": null,
            "_model_module_version": "1.2.0",
            "_view_count": null,
            "flex_flow": null,
            "width": null,
            "min_width": null,
            "border": null,
            "align_items": null,
            "bottom": null,
            "_model_module": "@jupyter-widgets/base",
            "top": null,
            "grid_column": null,
            "overflow_y": null,
            "overflow_x": null,
            "grid_auto_flow": null,
            "grid_area": null,
            "grid_template_columns": null,
            "flex": null,
            "_model_name": "LayoutModel",
            "justify_items": null,
            "grid_row": null,
            "max_height": null,
            "align_content": null,
            "visibility": null,
            "align_self": null,
            "height": null,
            "min_height": null,
            "padding": null,
            "grid_auto_rows": null,
            "grid_gap": null,
            "max_width": null,
            "order": null,
            "_view_module_version": "1.2.0",
            "grid_template_areas": null,
            "object_position": null,
            "object_fit": null,
            "grid_auto_columns": null,
            "margin": null,
            "display": null,
            "left": null
          }
        },
        "9faaea5cf9124824b0b7495494b1f0f3": {
          "model_module": "@jupyter-widgets/controls",
          "model_name": "FloatProgressModel",
          "state": {
            "_view_name": "ProgressView",
            "style": "IPY_MODEL_7b390a81955147eeb553ae1a2b92d9ed",
            "_dom_classes": [],
            "description": "Downloading: 100%",
            "_model_name": "FloatProgressModel",
            "bar_style": "success",
            "max": 570,
            "_view_module": "@jupyter-widgets/controls",
            "_model_module_version": "1.5.0",
            "value": 570,
            "_view_count": null,
            "_view_module_version": "1.5.0",
            "orientation": "horizontal",
            "min": 0,
            "description_tooltip": null,
            "_model_module": "@jupyter-widgets/controls",
            "layout": "IPY_MODEL_f92023992a71496385e57d17c6e58279"
          }
        },
        "ab6c6913ac3b4b46be8024717a2e3cb1": {
          "model_module": "@jupyter-widgets/controls",
          "model_name": "HTMLModel",
          "state": {
            "_view_name": "HTMLView",
            "style": "IPY_MODEL_d0fd136641a44f16a80c53eea6fc1667",
            "_dom_classes": [],
            "description": "",
            "_model_name": "HTMLModel",
            "placeholder": "​",
            "_view_module": "@jupyter-widgets/controls",
            "_model_module_version": "1.5.0",
            "value": " 570/570 [00:00&lt;00:00, 1.20kB/s]",
            "_view_count": null,
            "_view_module_version": "1.5.0",
            "description_tooltip": null,
            "_model_module": "@jupyter-widgets/controls",
            "layout": "IPY_MODEL_6eb1ef59c6bb476bbe1cd23ef98cde37"
          }
        },
        "7b390a81955147eeb553ae1a2b92d9ed": {
          "model_module": "@jupyter-widgets/controls",
          "model_name": "ProgressStyleModel",
          "state": {
            "_view_name": "StyleView",
            "_model_name": "ProgressStyleModel",
            "description_width": "initial",
            "_view_module": "@jupyter-widgets/base",
            "_model_module_version": "1.5.0",
            "_view_count": null,
            "_view_module_version": "1.2.0",
            "bar_color": null,
            "_model_module": "@jupyter-widgets/controls"
          }
        },
        "f92023992a71496385e57d17c6e58279": {
          "model_module": "@jupyter-widgets/base",
          "model_name": "LayoutModel",
          "state": {
            "_view_name": "LayoutView",
            "grid_template_rows": null,
            "right": null,
            "justify_content": null,
            "_view_module": "@jupyter-widgets/base",
            "overflow": null,
            "_model_module_version": "1.2.0",
            "_view_count": null,
            "flex_flow": null,
            "width": null,
            "min_width": null,
            "border": null,
            "align_items": null,
            "bottom": null,
            "_model_module": "@jupyter-widgets/base",
            "top": null,
            "grid_column": null,
            "overflow_y": null,
            "overflow_x": null,
            "grid_auto_flow": null,
            "grid_area": null,
            "grid_template_columns": null,
            "flex": null,
            "_model_name": "LayoutModel",
            "justify_items": null,
            "grid_row": null,
            "max_height": null,
            "align_content": null,
            "visibility": null,
            "align_self": null,
            "height": null,
            "min_height": null,
            "padding": null,
            "grid_auto_rows": null,
            "grid_gap": null,
            "max_width": null,
            "order": null,
            "_view_module_version": "1.2.0",
            "grid_template_areas": null,
            "object_position": null,
            "object_fit": null,
            "grid_auto_columns": null,
            "margin": null,
            "display": null,
            "left": null
          }
        },
        "d0fd136641a44f16a80c53eea6fc1667": {
          "model_module": "@jupyter-widgets/controls",
          "model_name": "DescriptionStyleModel",
          "state": {
            "_view_name": "StyleView",
            "_model_name": "DescriptionStyleModel",
            "description_width": "",
            "_view_module": "@jupyter-widgets/base",
            "_model_module_version": "1.5.0",
            "_view_count": null,
            "_view_module_version": "1.2.0",
            "_model_module": "@jupyter-widgets/controls"
          }
        },
        "6eb1ef59c6bb476bbe1cd23ef98cde37": {
          "model_module": "@jupyter-widgets/base",
          "model_name": "LayoutModel",
          "state": {
            "_view_name": "LayoutView",
            "grid_template_rows": null,
            "right": null,
            "justify_content": null,
            "_view_module": "@jupyter-widgets/base",
            "overflow": null,
            "_model_module_version": "1.2.0",
            "_view_count": null,
            "flex_flow": null,
            "width": null,
            "min_width": null,
            "border": null,
            "align_items": null,
            "bottom": null,
            "_model_module": "@jupyter-widgets/base",
            "top": null,
            "grid_column": null,
            "overflow_y": null,
            "overflow_x": null,
            "grid_auto_flow": null,
            "grid_area": null,
            "grid_template_columns": null,
            "flex": null,
            "_model_name": "LayoutModel",
            "justify_items": null,
            "grid_row": null,
            "max_height": null,
            "align_content": null,
            "visibility": null,
            "align_self": null,
            "height": null,
            "min_height": null,
            "padding": null,
            "grid_auto_rows": null,
            "grid_gap": null,
            "max_width": null,
            "order": null,
            "_view_module_version": "1.2.0",
            "grid_template_areas": null,
            "object_position": null,
            "object_fit": null,
            "grid_auto_columns": null,
            "margin": null,
            "display": null,
            "left": null
          }
        },
        "9922bd4730584d3c96fe05c106b7cb21": {
          "model_module": "@jupyter-widgets/controls",
          "model_name": "HBoxModel",
          "state": {
            "_view_name": "HBoxView",
            "_dom_classes": [],
            "_model_name": "HBoxModel",
            "_view_module": "@jupyter-widgets/controls",
            "_model_module_version": "1.5.0",
            "_view_count": null,
            "_view_module_version": "1.5.0",
            "box_style": "",
            "layout": "IPY_MODEL_1d83f18cc1364771b4a024d72077b3d1",
            "_model_module": "@jupyter-widgets/controls",
            "children": [
              "IPY_MODEL_3b9f9b30fcb24441ac46780bf327e081",
              "IPY_MODEL_adb60140ca524104a714d4ad765e59d8"
            ]
          }
        },
        "1d83f18cc1364771b4a024d72077b3d1": {
          "model_module": "@jupyter-widgets/base",
          "model_name": "LayoutModel",
          "state": {
            "_view_name": "LayoutView",
            "grid_template_rows": null,
            "right": null,
            "justify_content": null,
            "_view_module": "@jupyter-widgets/base",
            "overflow": null,
            "_model_module_version": "1.2.0",
            "_view_count": null,
            "flex_flow": null,
            "width": null,
            "min_width": null,
            "border": null,
            "align_items": null,
            "bottom": null,
            "_model_module": "@jupyter-widgets/base",
            "top": null,
            "grid_column": null,
            "overflow_y": null,
            "overflow_x": null,
            "grid_auto_flow": null,
            "grid_area": null,
            "grid_template_columns": null,
            "flex": null,
            "_model_name": "LayoutModel",
            "justify_items": null,
            "grid_row": null,
            "max_height": null,
            "align_content": null,
            "visibility": null,
            "align_self": null,
            "height": null,
            "min_height": null,
            "padding": null,
            "grid_auto_rows": null,
            "grid_gap": null,
            "max_width": null,
            "order": null,
            "_view_module_version": "1.2.0",
            "grid_template_areas": null,
            "object_position": null,
            "object_fit": null,
            "grid_auto_columns": null,
            "margin": null,
            "display": null,
            "left": null
          }
        },
        "3b9f9b30fcb24441ac46780bf327e081": {
          "model_module": "@jupyter-widgets/controls",
          "model_name": "FloatProgressModel",
          "state": {
            "_view_name": "ProgressView",
            "style": "IPY_MODEL_64a0ac77909344e6bfc2e82cb5ceb729",
            "_dom_classes": [],
            "description": "Downloading: 100%",
            "_model_name": "FloatProgressModel",
            "bar_style": "success",
            "max": 440473133,
            "_view_module": "@jupyter-widgets/controls",
            "_model_module_version": "1.5.0",
            "value": 440473133,
            "_view_count": null,
            "_view_module_version": "1.5.0",
            "orientation": "horizontal",
            "min": 0,
            "description_tooltip": null,
            "_model_module": "@jupyter-widgets/controls",
            "layout": "IPY_MODEL_c70ca287548c45ee897d3e3a22539ba9"
          }
        },
        "adb60140ca524104a714d4ad765e59d8": {
          "model_module": "@jupyter-widgets/controls",
          "model_name": "HTMLModel",
          "state": {
            "_view_name": "HTMLView",
            "style": "IPY_MODEL_9ddac246904542df9b76799135429ac2",
            "_dom_classes": [],
            "description": "",
            "_model_name": "HTMLModel",
            "placeholder": "​",
            "_view_module": "@jupyter-widgets/controls",
            "_model_module_version": "1.5.0",
            "value": " 440M/440M [00:29&lt;00:00, 14.8MB/s]",
            "_view_count": null,
            "_view_module_version": "1.5.0",
            "description_tooltip": null,
            "_model_module": "@jupyter-widgets/controls",
            "layout": "IPY_MODEL_d66f349fec2945909a97462f718e4f9b"
          }
        },
        "64a0ac77909344e6bfc2e82cb5ceb729": {
          "model_module": "@jupyter-widgets/controls",
          "model_name": "ProgressStyleModel",
          "state": {
            "_view_name": "StyleView",
            "_model_name": "ProgressStyleModel",
            "description_width": "initial",
            "_view_module": "@jupyter-widgets/base",
            "_model_module_version": "1.5.0",
            "_view_count": null,
            "_view_module_version": "1.2.0",
            "bar_color": null,
            "_model_module": "@jupyter-widgets/controls"
          }
        },
        "c70ca287548c45ee897d3e3a22539ba9": {
          "model_module": "@jupyter-widgets/base",
          "model_name": "LayoutModel",
          "state": {
            "_view_name": "LayoutView",
            "grid_template_rows": null,
            "right": null,
            "justify_content": null,
            "_view_module": "@jupyter-widgets/base",
            "overflow": null,
            "_model_module_version": "1.2.0",
            "_view_count": null,
            "flex_flow": null,
            "width": null,
            "min_width": null,
            "border": null,
            "align_items": null,
            "bottom": null,
            "_model_module": "@jupyter-widgets/base",
            "top": null,
            "grid_column": null,
            "overflow_y": null,
            "overflow_x": null,
            "grid_auto_flow": null,
            "grid_area": null,
            "grid_template_columns": null,
            "flex": null,
            "_model_name": "LayoutModel",
            "justify_items": null,
            "grid_row": null,
            "max_height": null,
            "align_content": null,
            "visibility": null,
            "align_self": null,
            "height": null,
            "min_height": null,
            "padding": null,
            "grid_auto_rows": null,
            "grid_gap": null,
            "max_width": null,
            "order": null,
            "_view_module_version": "1.2.0",
            "grid_template_areas": null,
            "object_position": null,
            "object_fit": null,
            "grid_auto_columns": null,
            "margin": null,
            "display": null,
            "left": null
          }
        },
        "9ddac246904542df9b76799135429ac2": {
          "model_module": "@jupyter-widgets/controls",
          "model_name": "DescriptionStyleModel",
          "state": {
            "_view_name": "StyleView",
            "_model_name": "DescriptionStyleModel",
            "description_width": "",
            "_view_module": "@jupyter-widgets/base",
            "_model_module_version": "1.5.0",
            "_view_count": null,
            "_view_module_version": "1.2.0",
            "_model_module": "@jupyter-widgets/controls"
          }
        },
        "d66f349fec2945909a97462f718e4f9b": {
          "model_module": "@jupyter-widgets/base",
          "model_name": "LayoutModel",
          "state": {
            "_view_name": "LayoutView",
            "grid_template_rows": null,
            "right": null,
            "justify_content": null,
            "_view_module": "@jupyter-widgets/base",
            "overflow": null,
            "_model_module_version": "1.2.0",
            "_view_count": null,
            "flex_flow": null,
            "width": null,
            "min_width": null,
            "border": null,
            "align_items": null,
            "bottom": null,
            "_model_module": "@jupyter-widgets/base",
            "top": null,
            "grid_column": null,
            "overflow_y": null,
            "overflow_x": null,
            "grid_auto_flow": null,
            "grid_area": null,
            "grid_template_columns": null,
            "flex": null,
            "_model_name": "LayoutModel",
            "justify_items": null,
            "grid_row": null,
            "max_height": null,
            "align_content": null,
            "visibility": null,
            "align_self": null,
            "height": null,
            "min_height": null,
            "padding": null,
            "grid_auto_rows": null,
            "grid_gap": null,
            "max_width": null,
            "order": null,
            "_view_module_version": "1.2.0",
            "grid_template_areas": null,
            "object_position": null,
            "object_fit": null,
            "grid_auto_columns": null,
            "margin": null,
            "display": null,
            "left": null
          }
        }
      }
    },
    "accelerator": "GPU"
  },
  "cells": [
    {
      "cell_type": "markdown",
      "metadata": {
        "id": "ImvTqHNuyWcb"
      },
      "source": [
        "### Reference\n",
        "https://www.youtube.com/watch?v=8N-nM3QW7O0<br>\n",
        "https://www.youtube.com/watch?v=Hnvb9b7a_Ps&t=19s<br>\n",
        "https://leemeng.tw/attack_on_bert_transfer_learning_in_nlp.html<br>\n",
        "https://huggingface.co/transformers"
      ]
    },
    {
      "cell_type": "markdown",
      "metadata": {
        "id": "w7WEpqJ0L76k"
      },
      "source": [
        "### Download dataset from kaggle"
      ]
    },
    {
      "cell_type": "code",
      "metadata": {
        "id": "E5Y5QRWlB6MR"
      },
      "source": [
        "!pip install --upgrade --force-reinstall --no-deps kaggle\n",
        "from google.colab import files\n",
        "files.upload() \n",
        "! mkdir ~/.kaggle\n",
        "! cp kaggle.json ~/.kaggle/\n",
        "! chmod 600 ~/.kaggle/kaggle.json\n",
        "! kaggle datasets list\n",
        "! kaggle competitions list\n",
        "! kaggle competitions download -c 'nlp-getting-started'  # Disaster Tweets\n",
        "!unzip nlp-getting-started.zip"
      ],
      "execution_count": 1,
      "outputs": []
    },
    {
      "cell_type": "markdown",
      "metadata": {
        "id": "fExHqVFiQgYL"
      },
      "source": [
        "### import library"
      ]
    },
    {
      "cell_type": "code",
      "metadata": {
        "id": "nJrqvgvKJDtm"
      },
      "source": [
        "! pip install transformers"
      ],
      "execution_count": null,
      "outputs": []
    },
    {
      "cell_type": "code",
      "metadata": {
        "execution": {
          "iopub.status.busy": "2021-05-30T14:57:22.311614Z",
          "iopub.execute_input": "2021-05-30T14:57:22.312001Z",
          "iopub.status.idle": "2021-05-30T14:57:25.119555Z",
          "shell.execute_reply.started": "2021-05-30T14:57:22.311963Z",
          "shell.execute_reply": "2021-05-30T14:57:25.118480Z"
        },
        "trusted": true,
        "id": "Qy4C1-gHBivl"
      },
      "source": [
        "import transformers\n",
        "from transformers import BertModel, BertTokenizer, AdamW, BertForSequenceClassification, get_linear_schedule_with_warmup\n",
        "import torch\n",
        "from torch.utils.data import Dataset, DataLoader\n",
        "from transformers import get_linear_schedule_with_warmup\n",
        "from torch import nn, optim\n",
        "import torch.nn.functional as F\n",
        "\n",
        "from sklearn.model_selection import train_test_split\n",
        "from sklearn.metrics import classification_report\n",
        "\n",
        "import matplotlib.pyplot as plt\n",
        "import seaborn as sns\n",
        "\n",
        "import numpy as np\n",
        "import pandas as pd\n",
        "from collections import defaultdict\n",
        "import time\n",
        "import datetime\n",
        "import re"
      ],
      "execution_count": 2,
      "outputs": []
    },
    {
      "cell_type": "code",
      "metadata": {
        "execution": {
          "iopub.status.busy": "2021-05-30T14:57:25.132793Z",
          "iopub.execute_input": "2021-05-30T14:57:25.133085Z",
          "iopub.status.idle": "2021-05-30T14:57:25.147220Z",
          "shell.execute_reply.started": "2021-05-30T14:57:25.133058Z",
          "shell.execute_reply": "2021-05-30T14:57:25.146126Z"
        },
        "trusted": true,
        "id": "zJsOS_UdBivn",
        "colab": {
          "base_uri": "https://localhost:8080/"
        },
        "outputId": "62abcf1a-5769-43b5-eddb-8e7395c8e2f5"
      },
      "source": [
        "# set random seed\n",
        "random_seed = 42\n",
        "np.random.seed(random_seed)\n",
        "torch.manual_seed(random_seed)"
      ],
      "execution_count": 3,
      "outputs": [
        {
          "output_type": "execute_result",
          "data": {
            "text/plain": [
              "<torch._C.Generator at 0x7fb2774d1610>"
            ]
          },
          "metadata": {
            "tags": []
          },
          "execution_count": 3
        }
      ]
    },
    {
      "cell_type": "markdown",
      "metadata": {
        "id": "ahuudOwfBivm"
      },
      "source": [
        "### check GPU is available or not, if yes use GPU  (PyTorch)"
      ]
    },
    {
      "cell_type": "code",
      "metadata": {
        "execution": {
          "iopub.status.busy": "2021-05-30T14:57:25.121225Z",
          "iopub.execute_input": "2021-05-30T14:57:25.121818Z",
          "iopub.status.idle": "2021-05-30T14:57:25.130266Z",
          "shell.execute_reply.started": "2021-05-30T14:57:25.121782Z",
          "shell.execute_reply": "2021-05-30T14:57:25.129242Z"
        },
        "trusted": true,
        "id": "b8SA1cNaBivn",
        "colab": {
          "base_uri": "https://localhost:8080/"
        },
        "outputId": "c5f82cf3-e786-464b-fa10-943bcd1f0bc7"
      },
      "source": [
        "if torch.cuda.is_available():    \n",
        "  \n",
        "    device = torch.device(\"cuda\")\n",
        "\n",
        "    print(torch.cuda.device_count())\n",
        "\n",
        "    print(torch.cuda.get_device_name(0))\n",
        "\n",
        "else:\n",
        "    print('No GPU available')\n",
        "    device = torch.device(\"cpu\")"
      ],
      "execution_count": 4,
      "outputs": [
        {
          "output_type": "stream",
          "text": [
            "1\n",
            "Tesla T4\n"
          ],
          "name": "stdout"
        }
      ]
    },
    {
      "cell_type": "markdown",
      "metadata": {
        "id": "X_8AheBhwQDS"
      },
      "source": [
        "### Read dataset"
      ]
    },
    {
      "cell_type": "code",
      "metadata": {
        "execution": {
          "iopub.status.busy": "2021-05-30T14:57:26.957179Z",
          "iopub.execute_input": "2021-05-30T14:57:26.957670Z",
          "iopub.status.idle": "2021-05-30T14:57:27.619454Z",
          "shell.execute_reply.started": "2021-05-30T14:57:26.957622Z",
          "shell.execute_reply": "2021-05-30T14:57:27.618429Z"
        },
        "trusted": true,
        "id": "PK184-fjBivp"
      },
      "source": [
        "df = pd.read_csv('train.csv')\n",
        "df_sub = pd.read_csv('test.csv')"
      ],
      "execution_count": 5,
      "outputs": []
    },
    {
      "cell_type": "code",
      "metadata": {
        "colab": {
          "base_uri": "https://localhost:8080/",
          "height": 197
        },
        "id": "3pEiVX6wzi6i",
        "outputId": "fe30654d-c748-4405-9025-3d60a1f43c1d"
      },
      "source": [
        "df.head()"
      ],
      "execution_count": 6,
      "outputs": [
        {
          "output_type": "execute_result",
          "data": {
            "text/html": [
              "<div>\n",
              "<style scoped>\n",
              "    .dataframe tbody tr th:only-of-type {\n",
              "        vertical-align: middle;\n",
              "    }\n",
              "\n",
              "    .dataframe tbody tr th {\n",
              "        vertical-align: top;\n",
              "    }\n",
              "\n",
              "    .dataframe thead th {\n",
              "        text-align: right;\n",
              "    }\n",
              "</style>\n",
              "<table border=\"1\" class=\"dataframe\">\n",
              "  <thead>\n",
              "    <tr style=\"text-align: right;\">\n",
              "      <th></th>\n",
              "      <th>id</th>\n",
              "      <th>keyword</th>\n",
              "      <th>location</th>\n",
              "      <th>text</th>\n",
              "      <th>target</th>\n",
              "    </tr>\n",
              "  </thead>\n",
              "  <tbody>\n",
              "    <tr>\n",
              "      <th>0</th>\n",
              "      <td>1</td>\n",
              "      <td>NaN</td>\n",
              "      <td>NaN</td>\n",
              "      <td>Our Deeds are the Reason of this #earthquake M...</td>\n",
              "      <td>1</td>\n",
              "    </tr>\n",
              "    <tr>\n",
              "      <th>1</th>\n",
              "      <td>4</td>\n",
              "      <td>NaN</td>\n",
              "      <td>NaN</td>\n",
              "      <td>Forest fire near La Ronge Sask. Canada</td>\n",
              "      <td>1</td>\n",
              "    </tr>\n",
              "    <tr>\n",
              "      <th>2</th>\n",
              "      <td>5</td>\n",
              "      <td>NaN</td>\n",
              "      <td>NaN</td>\n",
              "      <td>All residents asked to 'shelter in place' are ...</td>\n",
              "      <td>1</td>\n",
              "    </tr>\n",
              "    <tr>\n",
              "      <th>3</th>\n",
              "      <td>6</td>\n",
              "      <td>NaN</td>\n",
              "      <td>NaN</td>\n",
              "      <td>13,000 people receive #wildfires evacuation or...</td>\n",
              "      <td>1</td>\n",
              "    </tr>\n",
              "    <tr>\n",
              "      <th>4</th>\n",
              "      <td>7</td>\n",
              "      <td>NaN</td>\n",
              "      <td>NaN</td>\n",
              "      <td>Just got sent this photo from Ruby #Alaska as ...</td>\n",
              "      <td>1</td>\n",
              "    </tr>\n",
              "  </tbody>\n",
              "</table>\n",
              "</div>"
            ],
            "text/plain": [
              "   id keyword  ...                                               text target\n",
              "0   1     NaN  ...  Our Deeds are the Reason of this #earthquake M...      1\n",
              "1   4     NaN  ...             Forest fire near La Ronge Sask. Canada      1\n",
              "2   5     NaN  ...  All residents asked to 'shelter in place' are ...      1\n",
              "3   6     NaN  ...  13,000 people receive #wildfires evacuation or...      1\n",
              "4   7     NaN  ...  Just got sent this photo from Ruby #Alaska as ...      1\n",
              "\n",
              "[5 rows x 5 columns]"
            ]
          },
          "metadata": {
            "tags": []
          },
          "execution_count": 6
        }
      ]
    },
    {
      "cell_type": "code",
      "metadata": {
        "execution": {
          "iopub.status.busy": "2021-05-30T14:57:27.621067Z",
          "iopub.execute_input": "2021-05-30T14:57:27.621557Z",
          "iopub.status.idle": "2021-05-30T14:57:27.635703Z",
          "shell.execute_reply.started": "2021-05-30T14:57:27.621470Z",
          "shell.execute_reply": "2021-05-30T14:57:27.634783Z"
        },
        "trusted": true,
        "id": "7H5SCcyJBivq",
        "colab": {
          "base_uri": "https://localhost:8080/",
          "height": 197
        },
        "outputId": "0b496be8-584b-4911-b3f7-dc98e4013563"
      },
      "source": [
        "df_sub.head()"
      ],
      "execution_count": 7,
      "outputs": [
        {
          "output_type": "execute_result",
          "data": {
            "text/html": [
              "<div>\n",
              "<style scoped>\n",
              "    .dataframe tbody tr th:only-of-type {\n",
              "        vertical-align: middle;\n",
              "    }\n",
              "\n",
              "    .dataframe tbody tr th {\n",
              "        vertical-align: top;\n",
              "    }\n",
              "\n",
              "    .dataframe thead th {\n",
              "        text-align: right;\n",
              "    }\n",
              "</style>\n",
              "<table border=\"1\" class=\"dataframe\">\n",
              "  <thead>\n",
              "    <tr style=\"text-align: right;\">\n",
              "      <th></th>\n",
              "      <th>id</th>\n",
              "      <th>keyword</th>\n",
              "      <th>location</th>\n",
              "      <th>text</th>\n",
              "    </tr>\n",
              "  </thead>\n",
              "  <tbody>\n",
              "    <tr>\n",
              "      <th>0</th>\n",
              "      <td>0</td>\n",
              "      <td>NaN</td>\n",
              "      <td>NaN</td>\n",
              "      <td>Just happened a terrible car crash</td>\n",
              "    </tr>\n",
              "    <tr>\n",
              "      <th>1</th>\n",
              "      <td>2</td>\n",
              "      <td>NaN</td>\n",
              "      <td>NaN</td>\n",
              "      <td>Heard about #earthquake is different cities, s...</td>\n",
              "    </tr>\n",
              "    <tr>\n",
              "      <th>2</th>\n",
              "      <td>3</td>\n",
              "      <td>NaN</td>\n",
              "      <td>NaN</td>\n",
              "      <td>there is a forest fire at spot pond, geese are...</td>\n",
              "    </tr>\n",
              "    <tr>\n",
              "      <th>3</th>\n",
              "      <td>9</td>\n",
              "      <td>NaN</td>\n",
              "      <td>NaN</td>\n",
              "      <td>Apocalypse lighting. #Spokane #wildfires</td>\n",
              "    </tr>\n",
              "    <tr>\n",
              "      <th>4</th>\n",
              "      <td>11</td>\n",
              "      <td>NaN</td>\n",
              "      <td>NaN</td>\n",
              "      <td>Typhoon Soudelor kills 28 in China and Taiwan</td>\n",
              "    </tr>\n",
              "  </tbody>\n",
              "</table>\n",
              "</div>"
            ],
            "text/plain": [
              "   id keyword location                                               text\n",
              "0   0     NaN      NaN                 Just happened a terrible car crash\n",
              "1   2     NaN      NaN  Heard about #earthquake is different cities, s...\n",
              "2   3     NaN      NaN  there is a forest fire at spot pond, geese are...\n",
              "3   9     NaN      NaN           Apocalypse lighting. #Spokane #wildfires\n",
              "4  11     NaN      NaN      Typhoon Soudelor kills 28 in China and Taiwan"
            ]
          },
          "metadata": {
            "tags": []
          },
          "execution_count": 7
        }
      ]
    },
    {
      "cell_type": "markdown",
      "metadata": {
        "id": "sV2TQkRMBivr"
      },
      "source": [
        "## Preprocessing data"
      ]
    },
    {
      "cell_type": "code",
      "metadata": {
        "id": "SsdC7iGwvbjt"
      },
      "source": [
        "def clean_data(text):\n",
        "    text = re.sub('#','',text)\n",
        "    text = re.sub('\\n','',text)\n",
        "    text = re.sub('http.[^\\s]*','',text)\n",
        "    text = re.sub('@.[^\\s]*','',text)\n",
        "    return text"
      ],
      "execution_count": 8,
      "outputs": []
    },
    {
      "cell_type": "code",
      "metadata": {
        "id": "Ox-O_qRMzL9T"
      },
      "source": [
        "df['text'] = df.text.apply(clean_data)\n",
        "df_sub['text'] = df_sub.text.apply(clean_data)"
      ],
      "execution_count": 9,
      "outputs": []
    },
    {
      "cell_type": "code",
      "metadata": {
        "execution": {
          "iopub.status.busy": "2021-05-30T14:57:25.149017Z",
          "iopub.execute_input": "2021-05-30T14:57:25.149321Z",
          "iopub.status.idle": "2021-05-30T14:57:26.955589Z",
          "shell.execute_reply.started": "2021-05-30T14:57:25.149293Z",
          "shell.execute_reply": "2021-05-30T14:57:26.954549Z"
        },
        "trusted": true,
        "id": "Yyag4MbeBivp",
        "colab": {
          "base_uri": "https://localhost:8080/",
          "height": 163,
          "referenced_widgets": [
            "e2254a64bd7140c1b1ae8557c693dc90",
            "8333344b9c864694be254547cf22a1b8",
            "7becbca93be448f3a303832c5b0b5d8b",
            "d076122ebcc94c908bccebc5bce3dfe2",
            "0a8d8b8f5a964a4a9325f41bebc01bfe",
            "03dfc7127f684bec984f482d08d004d0",
            "18276247af774679b4013a892df7da58",
            "718d699e0a9c43deb1927d9b5e4c790d",
            "195959dc243444fa8ebe235f50c020cc",
            "0449328a0f3e4e95976d9f1da1da8d6f",
            "e9cab7f93fe04d3ca3e7d5bd4a6db97a",
            "c6f28ea7f8ee452481f96a4bb0ee3359",
            "e09224bcf84046f987e47b765330de1c",
            "3521c7aba9ac405b9b0ab34f525719ee",
            "c0aa6fc7a6684b52b94bae2c62f09efe",
            "7f6a86cb835b407daa27b44f567e805b",
            "785e31464237419297bff313c6e09a5d",
            "918ab69cbc5a41e3a50d0db49c0ddf56",
            "0edb89146b684a1981a8e39e4e88c336",
            "95da4414f439476ba246defd5b0a7bb2",
            "0937e8faec074489b8e70c4a277bce33",
            "aee6849f22ab4eb8b7091d538c02f9bd",
            "c65509c6f6274472b897a3e7ef7bd370",
            "cc0c93edf89b43b5b78416a3854c0c71"
          ]
        },
        "outputId": "6d71a510-8e5c-415e-ae19-57e808d69bd2"
      },
      "source": [
        "# Download pretrained weight\n",
        "tokenizer = BertTokenizer.from_pretrained(\"bert-base-cased\")"
      ],
      "execution_count": 10,
      "outputs": [
        {
          "output_type": "display_data",
          "data": {
            "application/vnd.jupyter.widget-view+json": {
              "model_id": "e2254a64bd7140c1b1ae8557c693dc90",
              "version_minor": 0,
              "version_major": 2
            },
            "text/plain": [
              "HBox(children=(FloatProgress(value=0.0, description='Downloading', max=213450.0, style=ProgressStyle(descripti…"
            ]
          },
          "metadata": {
            "tags": []
          }
        },
        {
          "output_type": "stream",
          "text": [
            "\n"
          ],
          "name": "stdout"
        },
        {
          "output_type": "display_data",
          "data": {
            "application/vnd.jupyter.widget-view+json": {
              "model_id": "195959dc243444fa8ebe235f50c020cc",
              "version_minor": 0,
              "version_major": 2
            },
            "text/plain": [
              "HBox(children=(FloatProgress(value=0.0, description='Downloading', max=29.0, style=ProgressStyle(description_w…"
            ]
          },
          "metadata": {
            "tags": []
          }
        },
        {
          "output_type": "stream",
          "text": [
            "\n"
          ],
          "name": "stdout"
        },
        {
          "output_type": "display_data",
          "data": {
            "application/vnd.jupyter.widget-view+json": {
              "model_id": "785e31464237419297bff313c6e09a5d",
              "version_minor": 0,
              "version_major": 2
            },
            "text/plain": [
              "HBox(children=(FloatProgress(value=0.0, description='Downloading', max=435797.0, style=ProgressStyle(descripti…"
            ]
          },
          "metadata": {
            "tags": []
          }
        },
        {
          "output_type": "stream",
          "text": [
            "\n"
          ],
          "name": "stdout"
        }
      ]
    },
    {
      "cell_type": "markdown",
      "metadata": {
        "id": "XbjTLScpBivs"
      },
      "source": [
        "### [test] Apply tokenizer to single sentence\n"
      ]
    },
    {
      "cell_type": "markdown",
      "metadata": {
        "id": "1dp5z1bUBivt"
      },
      "source": [
        "\n",
        "> tokenizer -> return dict keys=\\['input_ids','token_type_ids','attention_mask']<br> \n",
        "> tokenizer.encode -> only return token ids<br> \n",
        "> tokenizer.tokenize -> only return tokens<br>\n",
        "> tokenizer.encode -> input ids return tokens<br>\n",
        "> tokenizer.encode_plus -> can add attention_mask or token_type_ids to dict <br>\n"
      ]
    },
    {
      "cell_type": "code",
      "metadata": {
        "execution": {
          "iopub.status.busy": "2021-05-30T14:57:27.655421Z",
          "iopub.execute_input": "2021-05-30T14:57:27.655806Z",
          "iopub.status.idle": "2021-05-30T14:57:27.672570Z",
          "shell.execute_reply.started": "2021-05-30T14:57:27.655770Z",
          "shell.execute_reply": "2021-05-30T14:57:27.671388Z"
        },
        "trusted": true,
        "id": "D4r4839IBivt"
      },
      "source": [
        "encoding = tokenizer.encode_plus(\n",
        "           df.loc[1,'text'],\n",
        "           max_length=512,\n",
        "           add_special_tokens=True,\n",
        "           padding='max_length',\n",
        "           truncation = True,\n",
        "           return_attention_mask=True,\n",
        "           return_token_type_ids=False,\n",
        "           return_tensors='pt')"
      ],
      "execution_count": 11,
      "outputs": []
    },
    {
      "cell_type": "code",
      "metadata": {
        "execution": {
          "iopub.status.busy": "2021-05-30T14:57:27.676681Z",
          "iopub.execute_input": "2021-05-30T14:57:27.677036Z",
          "iopub.status.idle": "2021-05-30T14:57:27.683140Z",
          "shell.execute_reply.started": "2021-05-30T14:57:27.677002Z",
          "shell.execute_reply": "2021-05-30T14:57:27.682030Z"
        },
        "trusted": true,
        "id": "bI6nekbrBivu",
        "colab": {
          "base_uri": "https://localhost:8080/"
        },
        "outputId": "bf6d4370-0c39-40ea-997d-968f2ddfbde6"
      },
      "source": [
        "encoding.keys()"
      ],
      "execution_count": 12,
      "outputs": [
        {
          "output_type": "execute_result",
          "data": {
            "text/plain": [
              "dict_keys(['input_ids', 'attention_mask'])"
            ]
          },
          "metadata": {
            "tags": []
          },
          "execution_count": 12
        }
      ]
    },
    {
      "cell_type": "code",
      "metadata": {
        "execution": {
          "iopub.status.busy": "2021-05-30T14:57:27.685448Z",
          "iopub.execute_input": "2021-05-30T14:57:27.685901Z",
          "iopub.status.idle": "2021-05-30T14:57:27.709195Z",
          "shell.execute_reply.started": "2021-05-30T14:57:27.685856Z",
          "shell.execute_reply": "2021-05-30T14:57:27.707838Z"
        },
        "trusted": true,
        "id": "AtQS4fnSBivu",
        "colab": {
          "base_uri": "https://localhost:8080/"
        },
        "outputId": "5d034f0e-2925-436e-f908-ca76a87dc80d"
      },
      "source": [
        "encoded_input = tokenizer(df.loc[0,'text'])  \n",
        "encoded_input.keys()"
      ],
      "execution_count": 13,
      "outputs": [
        {
          "output_type": "execute_result",
          "data": {
            "text/plain": [
              "dict_keys(['input_ids', 'token_type_ids', 'attention_mask'])"
            ]
          },
          "metadata": {
            "tags": []
          },
          "execution_count": 13
        }
      ]
    },
    {
      "cell_type": "code",
      "metadata": {
        "execution": {
          "iopub.status.busy": "2021-05-30T14:57:27.710812Z",
          "iopub.execute_input": "2021-05-30T14:57:27.711340Z",
          "iopub.status.idle": "2021-05-30T14:57:27.730968Z",
          "shell.execute_reply.started": "2021-05-30T14:57:27.711285Z",
          "shell.execute_reply": "2021-05-30T14:57:27.729630Z"
        },
        "trusted": true,
        "id": "XchP0ZLhBivv",
        "colab": {
          "base_uri": "https://localhost:8080/",
          "height": 35
        },
        "outputId": "1ee1a039-e53d-45fb-b337-e377f1c86904"
      },
      "source": [
        "tokenizer.decode(encoded_input[\"input_ids\"])  #special tokens added"
      ],
      "execution_count": 14,
      "outputs": [
        {
          "output_type": "execute_result",
          "data": {
            "application/vnd.google.colaboratory.intrinsic+json": {
              "type": "string"
            },
            "text/plain": [
              "'[CLS] Our Deeds are the Reason of this earthquake May ALLAH Forgive us all [SEP]'"
            ]
          },
          "metadata": {
            "tags": []
          },
          "execution_count": 14
        }
      ]
    },
    {
      "cell_type": "markdown",
      "metadata": {
        "id": "xsMkodd9Bivv"
      },
      "source": [
        "### Choose max_length"
      ]
    },
    {
      "cell_type": "code",
      "metadata": {
        "execution": {
          "iopub.status.busy": "2021-05-30T14:57:27.732416Z",
          "iopub.execute_input": "2021-05-30T14:57:27.732864Z"
        },
        "trusted": true,
        "id": "azACYAJlBivv"
      },
      "source": [
        "all_len = []\n",
        "for text in df.text:\n",
        "    token_ids = tokenizer.encode(text,max_length=512,truncation=True)\n",
        "    all_len.append(len(token_ids))"
      ],
      "execution_count": 15,
      "outputs": []
    },
    {
      "cell_type": "code",
      "metadata": {
        "trusted": true,
        "id": "vL2j9SQKBivw",
        "colab": {
          "base_uri": "https://localhost:8080/",
          "height": 335
        },
        "outputId": "bcede71d-adf2-4ba5-bdc5-28755364c098"
      },
      "source": [
        "sns.distplot(all_len) # choose max_length : 90"
      ],
      "execution_count": 16,
      "outputs": [
        {
          "output_type": "stream",
          "text": [
            "/usr/local/lib/python3.7/dist-packages/seaborn/distributions.py:2557: FutureWarning: `distplot` is a deprecated function and will be removed in a future version. Please adapt your code to use either `displot` (a figure-level function with similar flexibility) or `histplot` (an axes-level function for histograms).\n",
            "  warnings.warn(msg, FutureWarning)\n"
          ],
          "name": "stderr"
        },
        {
          "output_type": "execute_result",
          "data": {
            "text/plain": [
              "<matplotlib.axes._subplots.AxesSubplot at 0x7fb21ce26d50>"
            ]
          },
          "metadata": {
            "tags": []
          },
          "execution_count": 16
        },
        {
          "output_type": "display_data",
          "data": {
            "image/png": "[encoded data removed]",
            "text/plain": [
              "<Figure size 432x288 with 1 Axes>"
            ]
          },
          "metadata": {
            "tags": [],
            "needs_background": "light"
          }
        }
      ]
    },
    {
      "cell_type": "code",
      "metadata": {
        "trusted": true,
        "id": "_PDk89g4Bivw",
        "colab": {
          "base_uri": "https://localhost:8080/"
        },
        "outputId": "f3d20936-b0f7-4e44-9bcd-679f7ac10384"
      },
      "source": [
        "df.shape"
      ],
      "execution_count": 17,
      "outputs": [
        {
          "output_type": "execute_result",
          "data": {
            "text/plain": [
              "(7613, 5)"
            ]
          },
          "metadata": {
            "tags": []
          },
          "execution_count": 17
        }
      ]
    },
    {
      "cell_type": "code",
      "metadata": {
        "trusted": true,
        "id": "JokX7fvaBivx"
      },
      "source": [
        "df_train, df_test = train_test_split(df, random_state=random_seed, test_size=0.3)\n",
        "df_val, df_test = train_test_split(df_test, random_state=random_seed, test_size=0.5)"
      ],
      "execution_count": 19,
      "outputs": []
    },
    {
      "cell_type": "code",
      "metadata": {
        "trusted": true,
        "id": "OH8DO6rYBivx",
        "colab": {
          "base_uri": "https://localhost:8080/"
        },
        "outputId": "d7366017-7f85-4442-a259-a867a0bdb59c"
      },
      "source": [
        "df_train.shape, df_val.shape, df_test.shape"
      ],
      "execution_count": 20,
      "outputs": [
        {
          "output_type": "execute_result",
          "data": {
            "text/plain": [
              "((5329, 5), (1142, 5), (1142, 5))"
            ]
          },
          "metadata": {
            "tags": []
          },
          "execution_count": 20
        }
      ]
    },
    {
      "cell_type": "markdown",
      "metadata": {
        "id": "xG7Efmq9Bivx"
      },
      "source": [
        "### Create PyTorch Dataloader\n",
        "\n",
        "create dataset -> turn into dataloader\n"
      ]
    },
    {
      "cell_type": "code",
      "metadata": {
        "trusted": true,
        "id": "gVvToyIYBivy"
      },
      "source": [
        "class text_dataset(Dataset):\n",
        "    \n",
        "    def __init__(self, text, tokenizer, max_len, train=True, targets=None):\n",
        "        self.text = text\n",
        "        self.targets = targets\n",
        "        self.tokenizer = tokenizer\n",
        "        self.max_len = max_len\n",
        "        self.train = train\n",
        "        \n",
        "    def __len__(self):\n",
        "        return len(self.text) \n",
        "    \n",
        "    def __getitem__(self,index):  #how to load data\n",
        "        text = str(self.text[index])\n",
        "        \n",
        "        encoding = tokenizer.encode_plus(\n",
        "                  text,\n",
        "                  max_length=self.max_len,\n",
        "                  add_special_tokens=True,\n",
        "                  padding='max_length',\n",
        "                  truncation = True,\n",
        "                  return_attention_mask=True,\n",
        "                  return_token_type_ids=False,\n",
        "                  return_tensors='pt')\n",
        "        \n",
        "        if self.train == True:\n",
        "            target = self.targets[index]\n",
        "            return {\n",
        "                'text' : text,\n",
        "                'input_ids' : encoding['input_ids'].flatten(),  #collapsed into one dimension\n",
        "                'attention_mask' : encoding['attention_mask'].flatten(),  \n",
        "                'targets' : torch.tensor(target,dtype=torch.long)\n",
        "                }\n",
        "    \n",
        "        else:\n",
        "            return {\n",
        "              'text' : text,\n",
        "              'input_ids' : encoding['input_ids'].flatten(),\n",
        "              'attention_mask' : encoding['attention_mask'].flatten(),\n",
        "              }   "
      ],
      "execution_count": 21,
      "outputs": []
    },
    {
      "cell_type": "code",
      "metadata": {
        "trusted": true,
        "id": "X5e4nhnVBivz"
      },
      "source": [
        "def create_data_loader(df, tokenizer, max_len, batch_size, train=True):\n",
        "    if train == True:\n",
        "        dataset = text_dataset(\n",
        "                    text = df.text.values, \n",
        "                    targets = df.target.values,\n",
        "                    tokenizer = tokenizer, \n",
        "                    max_len = max_len,\n",
        "                    train = train\n",
        "                    )\n",
        "    else:\n",
        "        dataset = text_dataset(\n",
        "                    text = df.text.values,\n",
        "                    tokenizer = tokenizer, \n",
        "                    max_len = max_len,\n",
        "                    train = train\n",
        "                    )\n",
        "    \n",
        "    return DataLoader(\n",
        "            dataset,\n",
        "            batch_size=batch_size,\n",
        "            num_workers=2)   "
      ],
      "execution_count": 22,
      "outputs": []
    },
    {
      "cell_type": "code",
      "metadata": {
        "trusted": true,
        "id": "4sh-AQ5SBivy"
      },
      "source": [
        "MAX_LEN = 90\n",
        "BATCH_SIZE = 16"
      ],
      "execution_count": 23,
      "outputs": []
    },
    {
      "cell_type": "code",
      "metadata": {
        "trusted": true,
        "id": "5Hi4Xy51Bivz"
      },
      "source": [
        "train_data_loader = create_data_loader(df_train,tokenizer,MAX_LEN,BATCH_SIZE)\n",
        "val_data_loader = create_data_loader(df_val,tokenizer,MAX_LEN,BATCH_SIZE)\n",
        "test_data_loader = create_data_loader(df_test,tokenizer,MAX_LEN,BATCH_SIZE)"
      ],
      "execution_count": 24,
      "outputs": []
    },
    {
      "cell_type": "code",
      "metadata": {
        "id": "EyWlvcytzuFz"
      },
      "source": [
        "sub_data_loader = create_data_loader(df_sub,tokenizer,MAX_LEN,BATCH_SIZE,train=False)"
      ],
      "execution_count": 25,
      "outputs": []
    },
    {
      "cell_type": "code",
      "metadata": {
        "trusted": true,
        "id": "xah2dehfBiv0"
      },
      "source": [
        "#check dataloader shape\n",
        "data = next(iter(train_data_loader))"
      ],
      "execution_count": 26,
      "outputs": []
    },
    {
      "cell_type": "code",
      "metadata": {
        "trusted": true,
        "id": "mQg15O_3Biv0",
        "colab": {
          "base_uri": "https://localhost:8080/"
        },
        "outputId": "43093d9a-1140-4025-a59c-8ef126f1854f"
      },
      "source": [
        "print(data.keys())\n",
        "print(data['input_ids'].shape)\n",
        "print(data['attention_mask'].shape)\n",
        "print(data['targets'].shape)"
      ],
      "execution_count": 27,
      "outputs": [
        {
          "output_type": "stream",
          "text": [
            "dict_keys(['text', 'input_ids', 'attention_mask', 'targets'])\n",
            "torch.Size([16, 90])\n",
            "torch.Size([16, 90])\n",
            "torch.Size([16])\n"
          ],
          "name": "stdout"
        }
      ]
    },
    {
      "cell_type": "code",
      "metadata": {
        "id": "zLZyk4FZ3VOc"
      },
      "source": [
        "#check dataloader shape\n",
        "data = next(iter(sub_data_loader))"
      ],
      "execution_count": 28,
      "outputs": []
    },
    {
      "cell_type": "code",
      "metadata": {
        "colab": {
          "base_uri": "https://localhost:8080/"
        },
        "id": "pjbN2K_e5JmL",
        "outputId": "99c74abe-1eee-41b7-9372-4702864515fe"
      },
      "source": [
        "print(data.keys())\n",
        "print(data['input_ids'].shape)\n",
        "print(data['attention_mask'].shape)"
      ],
      "execution_count": 29,
      "outputs": [
        {
          "output_type": "stream",
          "text": [
            "dict_keys(['text', 'input_ids', 'attention_mask'])\n",
            "torch.Size([16, 90])\n",
            "torch.Size([16, 90])\n"
          ],
          "name": "stdout"
        }
      ]
    },
    {
      "cell_type": "markdown",
      "metadata": {
        "id": "vyX21dsWBiv1"
      },
      "source": [
        "### Fine-tuning a pretrained model (classification)"
      ]
    },
    {
      "cell_type": "markdown",
      "metadata": {
        "id": "Mak033ktBiv2"
      },
      "source": [
        "https://huggingface.co/transformers/model_doc/bert.html"
      ]
    },
    {
      "cell_type": "code",
      "metadata": {
        "trusted": true,
        "id": "jCsS3xfABiv2",
        "colab": {
          "base_uri": "https://localhost:8080/",
          "height": 184,
          "referenced_widgets": [
            "f6e31fcf474a42c5b90514bb16dcd506",
            "bed61aaf4b5f4dcead59d47a95b0ed77",
            "9faaea5cf9124824b0b7495494b1f0f3",
            "ab6c6913ac3b4b46be8024717a2e3cb1",
            "7b390a81955147eeb553ae1a2b92d9ed",
            "f92023992a71496385e57d17c6e58279",
            "d0fd136641a44f16a80c53eea6fc1667",
            "6eb1ef59c6bb476bbe1cd23ef98cde37",
            "9922bd4730584d3c96fe05c106b7cb21",
            "1d83f18cc1364771b4a024d72077b3d1",
            "3b9f9b30fcb24441ac46780bf327e081",
            "adb60140ca524104a714d4ad765e59d8",
            "64a0ac77909344e6bfc2e82cb5ceb729",
            "c70ca287548c45ee897d3e3a22539ba9",
            "9ddac246904542df9b76799135429ac2",
            "d66f349fec2945909a97462f718e4f9b"
          ]
        },
        "outputId": "49acc38a-d0df-490e-c84b-0cbdae8fd9f6"
      },
      "source": [
        "bert_model = BertModel.from_pretrained('bert-base-cased')"
      ],
      "execution_count": 30,
      "outputs": [
        {
          "output_type": "display_data",
          "data": {
            "application/vnd.jupyter.widget-view+json": {
              "model_id": "f6e31fcf474a42c5b90514bb16dcd506",
              "version_minor": 0,
              "version_major": 2
            },
            "text/plain": [
              "HBox(children=(FloatProgress(value=0.0, description='Downloading', max=570.0, style=ProgressStyle(description_…"
            ]
          },
          "metadata": {
            "tags": []
          }
        },
        {
          "output_type": "stream",
          "text": [
            "\n"
          ],
          "name": "stdout"
        },
        {
          "output_type": "display_data",
          "data": {
            "application/vnd.jupyter.widget-view+json": {
              "model_id": "9922bd4730584d3c96fe05c106b7cb21",
              "version_minor": 0,
              "version_major": 2
            },
            "text/plain": [
              "HBox(children=(FloatProgress(value=0.0, description='Downloading', max=440473133.0, style=ProgressStyle(descri…"
            ]
          },
          "metadata": {
            "tags": []
          }
        },
        {
          "output_type": "stream",
          "text": [
            "\n"
          ],
          "name": "stdout"
        },
        {
          "output_type": "stream",
          "text": [
            "Some weights of the model checkpoint at bert-base-uncased were not used when initializing BertModel: ['cls.seq_relationship.bias', 'cls.predictions.transform.dense.bias', 'cls.predictions.decoder.weight', 'cls.predictions.transform.LayerNorm.bias', 'cls.predictions.transform.dense.weight', 'cls.predictions.transform.LayerNorm.weight', 'cls.seq_relationship.weight', 'cls.predictions.bias']\n",
            "- This IS expected if you are initializing BertModel from the checkpoint of a model trained on another task or with another architecture (e.g. initializing a BertForSequenceClassification model from a BertForPreTraining model).\n",
            "- This IS NOT expected if you are initializing BertModel from the checkpoint of a model that you expect to be exactly identical (initializing a BertForSequenceClassification model from a BertForSequenceClassification model).\n"
          ],
          "name": "stderr"
        }
      ]
    },
    {
      "cell_type": "code",
      "metadata": {
        "trusted": true,
        "id": "sPxbM-MGBiv2"
      },
      "source": [
        "# test bert_model\n",
        "output = bert_model(\n",
        "  input_ids=encoding['input_ids'], \n",
        "  attention_mask=encoding['attention_mask'])"
      ],
      "execution_count": 58,
      "outputs": []
    },
    {
      "cell_type": "code",
      "metadata": {
        "id": "gt5vH5_0LuRn",
        "colab": {
          "base_uri": "https://localhost:8080/"
        },
        "outputId": "4f3dd612-d4d0-49bb-ced7-12a8eebbe5cf"
      },
      "source": [
        "output.keys()"
      ],
      "execution_count": 59,
      "outputs": [
        {
          "output_type": "execute_result",
          "data": {
            "text/plain": [
              "odict_keys(['last_hidden_state', 'pooler_output'])"
            ]
          },
          "metadata": {
            "tags": []
          },
          "execution_count": 59
        }
      ]
    },
    {
      "cell_type": "code",
      "metadata": {
        "id": "5H7uIqnEOVP9",
        "colab": {
          "base_uri": "https://localhost:8080/"
        },
        "outputId": "3f949449-4263-405d-9df0-180105a6bcbf"
      },
      "source": [
        "print(output['last_hidden_state'].shape)  # batch_size / len of text / embedding-size\n",
        "print(output['pooler_output'].shape)"
      ],
      "execution_count": 60,
      "outputs": [
        {
          "output_type": "stream",
          "text": [
            "torch.Size([1, 512, 768])\n",
            "torch.Size([1, 768])\n"
          ],
          "name": "stdout"
        }
      ]
    },
    {
      "cell_type": "markdown",
      "metadata": {
        "id": "T4aiWo1EyO5T"
      },
      "source": [
        "### Use BertForSequenceClassification"
      ]
    },
    {
      "cell_type": "code",
      "metadata": {
        "id": "q6Y1WXDyiGKT"
      },
      "source": [
        "model = BertForSequenceClassification.from_pretrained(\n",
        "    \"bert-base-cased\", \n",
        "    num_labels = 2, # output => 2 classes\n",
        "    output_attentions = False, # Whether the model returns attentions weights.\n",
        "    output_hidden_states = False # Whether the model returns all hidden-states.\n",
        ")\n",
        "\n",
        "# BertForSequenceClassification return loss(when label is provided -> optional), logits \n",
        "\n",
        "# run this model on the GPU.\n",
        "model.cuda()  # or model = model.to(device)"
      ],
      "execution_count": null,
      "outputs": []
    },
    {
      "cell_type": "code",
      "metadata": {
        "colab": {
          "base_uri": "https://localhost:8080/"
        },
        "id": "2vuCETK1-VTa",
        "outputId": "bba068d3-8b8c-498b-bc6f-f539ce752d62"
      },
      "source": [
        "print(\"\"\"name            module\n",
        "----------------------\"\"\")\n",
        "for name, module in model.named_children():\n",
        "    if name == \"bert\":\n",
        "        for n, _ in module.named_children():\n",
        "            print(f\"{name}:{n}\")\n",
        "    else:\n",
        "        print(\"{:15} {}\".format(name, module))"
      ],
      "execution_count": 32,
      "outputs": [
        {
          "output_type": "stream",
          "text": [
            "name            module\n",
            "----------------------\n",
            "bert:embeddings\n",
            "bert:encoder\n",
            "bert:pooler\n",
            "dropout         Dropout(p=0.1, inplace=False)\n",
            "classifier      Linear(in_features=768, out_features=2, bias=True)\n"
          ],
          "name": "stdout"
        }
      ]
    },
    {
      "cell_type": "code",
      "metadata": {
        "id": "GX-vjuj6kKj6"
      },
      "source": [
        "epochs = 4\n",
        "\n",
        "# training steps = number of batches * number of epochs.\n",
        "total_steps = len(train_data_loader) * epochs\n",
        "optimizer = AdamW(model.parameters(),\n",
        "                  lr = 2e-5, # args.learning_rate - default is 5e-5, our notebook had 2e-5\n",
        "                  eps = 1e-8 # args.adam_epsilon  - default is 1e-8.\n",
        "                )\n",
        "\n",
        "# Create the learning rate scheduler. (handle learning rate decay)\n",
        "scheduler = get_linear_schedule_with_warmup(optimizer, \n",
        "                        num_warmup_steps = 0, \n",
        "                        num_training_steps = total_steps)"
      ],
      "execution_count": 33,
      "outputs": []
    },
    {
      "cell_type": "code",
      "metadata": {
        "colab": {
          "base_uri": "https://localhost:8080/"
        },
        "id": "xfdxWlUdNbrN",
        "outputId": "9d5d5706-9687-4f08-846f-78e0872e7d5c"
      },
      "source": [
        "type(optimizer)"
      ],
      "execution_count": 71,
      "outputs": [
        {
          "output_type": "execute_result",
          "data": {
            "text/plain": [
              "transformers.optimization.AdamW"
            ]
          },
          "metadata": {
            "tags": []
          },
          "execution_count": 71
        }
      ]
    },
    {
      "cell_type": "code",
      "metadata": {
        "id": "UEOIKTCXw9dl"
      },
      "source": [
        "# Function to calculate the accuracy of our predictions vs labels\n",
        "def flat_accuracy(preds, labels):\n",
        "    pred_flat = np.argmax(preds, axis=1).flatten()\n",
        "    labels_flat = labels.flatten()\n",
        "    return np.sum(pred_flat == labels_flat) / len(labels_flat)"
      ],
      "execution_count": 34,
      "outputs": []
    },
    {
      "cell_type": "code",
      "metadata": {
        "id": "7oE2OihkrkZs"
      },
      "source": [
        "def format_time(elapsed):\n",
        "    '''\n",
        "    Takes a time in seconds and returns a string hh:mm:ss\n",
        "    '''\n",
        "    # Round to the nearest second.\n",
        "    elapsed_rounded = int(round((elapsed)))\n",
        "    \n",
        "    # Format as hh:mm:ss\n",
        "    return str(datetime.timedelta(seconds=elapsed_rounded))\n"
      ],
      "execution_count": 35,
      "outputs": []
    },
    {
      "cell_type": "code",
      "metadata": {
        "id": "t0-WSYw8zylY"
      },
      "source": [
        "def train_model(model, train_data_loader, optimizer, device, scheduler):\n",
        "    model.train()\n",
        "    start_time = time.time()\n",
        "    total_loss, total_accuracy = 0, 0 # reset loss and accuracy every epoch\n",
        "\n",
        "    for step, batch in enumerate(train_data_loader):\n",
        "        # Progress update every 50 batches.\n",
        "        if step % 50 == 0 and not step == 0:\n",
        "            # Calculate elapsed time in minutes.\n",
        "            elapsed = format_time(time.time() - start_time)\n",
        "                \n",
        "            # Report progress.\n",
        "            print('  Batch {:>5,}  of  {:>5,}.    Elapsed: {:}.'.format(step, len(train_data_loader), elapsed))\n",
        "\n",
        "        b_input_ids = batch['input_ids'].to(device)\n",
        "        b_input_mask = batch['attention_mask'].to(device)\n",
        "        b_labels = batch['targets'].to(device)\n",
        "\n",
        "        model.zero_grad() # set the gradients to zero before backpropragation \n",
        "\n",
        "        outputs = model(b_input_ids, \n",
        "                token_type_ids=None, \n",
        "                attention_mask=b_input_mask, \n",
        "                labels=b_labels)\n",
        "        \n",
        "        loss = outputs.loss #outputs[0]\n",
        "        logits = outputs.logits\n",
        "        logits = logits.detach().cpu().numpy()\n",
        "        label_ids = b_labels.to('cpu').numpy()\n",
        "\n",
        "        tmp_eval_accuracy = flat_accuracy(logits, label_ids)            \n",
        "        total_accuracy += tmp_eval_accuracy\n",
        "        total_loss += loss.item()        \n",
        "\n",
        "\n",
        "        # Perform a backward pass to calculate the gradients.\n",
        "        loss.backward()\n",
        "        # prevent \"exploding gradients\" problem.\n",
        "        torch.nn.utils.clip_grad_norm_(model.parameters(), max_norm=1.0)\n",
        "        # Update parameters.\n",
        "        optimizer.step()\n",
        "        # Update the learning rate.\n",
        "        scheduler.step()\n",
        "\n",
        "\n",
        "    avg_train_loss = total_loss / len(train_data_loader)           \n",
        "    avg_train_accuracy = total_accuracy / len(train_data_loader)\n",
        "\n",
        "    print(\"\")\n",
        "    print(\"  Average training loss: {0:.2f}\".format(avg_train_loss))\n",
        "    print(\"  Accuracy: {0:.2f}\".format(avg_train_accuracy))\n",
        "    print(\"  Training epcoh took: {:}\".format(format_time(time.time() - start_time)))\n",
        "\n",
        "    return avg_train_loss, avg_train_accuracy"
      ],
      "execution_count": 36,
      "outputs": []
    },
    {
      "cell_type": "code",
      "metadata": {
        "id": "7SwecpRaTNyy"
      },
      "source": [
        "def eval_model(model, data_loader, device):\n",
        "\n",
        "    model = model.eval()\n",
        "    start_time = time.time()\n",
        "\n",
        "    # Tracking variables \n",
        "    eval_loss, eval_accuracy = 0, 0\n",
        "\n",
        "    # Telling the model not to compute or store gradients, saving memory and\n",
        "    # speeding up validation\n",
        "    with torch.no_grad():\n",
        "        for d in data_loader:\n",
        "            b_input_ids = d[\"input_ids\"].to(device)\n",
        "            b_input_mask = d[\"attention_mask\"].to(device)\n",
        "            b_labels = d[\"targets\"].to(device)\n",
        "\n",
        "            outputs = model(b_input_ids, \n",
        "                      token_type_ids=None, \n",
        "                      attention_mask=b_input_mask,\n",
        "                      labels=b_labels)\n",
        "            \n",
        "            loss = outputs.loss\n",
        "            logits = outputs.logits\n",
        "            logits = logits.detach().cpu().numpy()\n",
        "            label_ids = b_labels.to('cpu').numpy()\n",
        "\n",
        "            tmp_eval_accuracy = flat_accuracy(logits, label_ids)\n",
        "\n",
        "            eval_accuracy += tmp_eval_accuracy\n",
        "            eval_loss += loss.item()\n",
        "        \n",
        "           \n",
        "        avg_eval_accuracy = eval_accuracy / len(data_loader)\n",
        "        avg_eval_loss = eval_loss / len(data_loader)\n",
        "\n",
        "        print(\"  Accuracy: {0:.4f}\".format(avg_eval_accuracy))\n",
        "        print(\"  Validation took: {:}\".format(format_time(time.time() - start_time)))\n",
        "        \n",
        "        return avg_eval_loss, avg_eval_accuracy "
      ],
      "execution_count": 37,
      "outputs": []
    },
    {
      "cell_type": "code",
      "metadata": {
        "colab": {
          "base_uri": "https://localhost:8080/"
        },
        "id": "UEZ867AxeXRu",
        "outputId": "3cd52613-a29c-4b9c-c477-b1ca1aaa238e"
      },
      "source": [
        "# Store the average loss and accuracy after each epoch so we can plot them.\n",
        "\n",
        "history = defaultdict(list)\n",
        "best_accuracy = 0\n",
        "\n",
        "for epoch in range(epochs):\n",
        "    # Training step\n",
        "    # ========================================\n",
        "    \n",
        "    # Perform one full pass over the training set.\n",
        "    print(\"\")\n",
        "    print('======== Epoch {:} / {:} ========'.format(epoch + 1, epochs))\n",
        "    print('Training...')\n",
        "\n",
        "    train_loss, train_acc = train_model(model, train_data_loader, optimizer, device, scheduler)\n",
        "\n",
        "    # Validation\n",
        "    # ========================================\n",
        "\n",
        "    print(\"\")\n",
        "    print(\"Running Validation...\")\n",
        "\n",
        "    val_loss, val_acc = eval_model(model, val_data_loader, device)\n",
        "\n",
        "    \n",
        "    history['train_acc'].append(train_acc)\n",
        "    history['train_loss'].append(train_loss)\n",
        "    history['val_acc'].append(val_acc)\n",
        "    history['val_loss'].append(val_loss)\n",
        "\n",
        "    if val_acc > best_accuracy:\n",
        "        torch.save(model.state_dict(), 'best_model_state.bin')\n",
        "        best_accuracy = val_acc\n",
        "print(\"\")\n",
        "print(\"Training complete!\")"
      ],
      "execution_count": 38,
      "outputs": [
        {
          "output_type": "stream",
          "text": [
            "\n",
            "======== Epoch 1 / 4 ========\n",
            "Training...\n",
            "  Batch    50  of    334.    Elapsed: 0:00:13.\n",
            "  Batch   100  of    334.    Elapsed: 0:00:26.\n",
            "  Batch   150  of    334.    Elapsed: 0:00:39.\n",
            "  Batch   200  of    334.    Elapsed: 0:00:52.\n",
            "  Batch   250  of    334.    Elapsed: 0:01:05.\n",
            "  Batch   300  of    334.    Elapsed: 0:01:18.\n",
            "\n",
            "  Average training loss: 0.47\n",
            "  Accuracy: 0.79\n",
            "  Training epcoh took: 0:01:27\n",
            "\n",
            "Running Validation...\n",
            "  Accuracy: 0.8281\n",
            "  Validation took: 0:00:06\n",
            "\n",
            "======== Epoch 2 / 4 ========\n",
            "Training...\n",
            "  Batch    50  of    334.    Elapsed: 0:00:14.\n",
            "  Batch   100  of    334.    Elapsed: 0:00:27.\n",
            "  Batch   150  of    334.    Elapsed: 0:00:41.\n",
            "  Batch   200  of    334.    Elapsed: 0:00:55.\n",
            "  Batch   250  of    334.    Elapsed: 0:01:09.\n",
            "  Batch   300  of    334.    Elapsed: 0:01:23.\n",
            "\n",
            "  Average training loss: 0.33\n",
            "  Accuracy: 0.87\n",
            "  Training epcoh took: 0:01:32\n",
            "\n",
            "Running Validation...\n",
            "  Accuracy: 0.8281\n",
            "  Validation took: 0:00:07\n",
            "\n",
            "======== Epoch 3 / 4 ========\n",
            "Training...\n",
            "  Batch    50  of    334.    Elapsed: 0:00:14.\n",
            "  Batch   100  of    334.    Elapsed: 0:00:28.\n",
            "  Batch   150  of    334.    Elapsed: 0:00:42.\n",
            "  Batch   200  of    334.    Elapsed: 0:00:56.\n",
            "  Batch   250  of    334.    Elapsed: 0:01:10.\n",
            "  Batch   300  of    334.    Elapsed: 0:01:24.\n",
            "\n",
            "  Average training loss: 0.24\n",
            "  Accuracy: 0.92\n",
            "  Training epcoh took: 0:01:33\n",
            "\n",
            "Running Validation...\n",
            "  Accuracy: 0.8299\n",
            "  Validation took: 0:00:07\n",
            "\n",
            "======== Epoch 4 / 4 ========\n",
            "Training...\n",
            "  Batch    50  of    334.    Elapsed: 0:00:14.\n",
            "  Batch   100  of    334.    Elapsed: 0:00:28.\n",
            "  Batch   150  of    334.    Elapsed: 0:00:42.\n",
            "  Batch   200  of    334.    Elapsed: 0:00:56.\n",
            "  Batch   250  of    334.    Elapsed: 0:01:10.\n",
            "  Batch   300  of    334.    Elapsed: 0:01:24.\n",
            "\n",
            "  Average training loss: 0.18\n",
            "  Accuracy: 0.94\n",
            "  Training epcoh took: 0:01:33\n",
            "\n",
            "Running Validation...\n",
            "  Accuracy: 0.8177\n",
            "  Validation took: 0:00:07\n",
            "\n",
            "Training complete!\n"
          ],
          "name": "stdout"
        }
      ]
    },
    {
      "cell_type": "code",
      "metadata": {
        "colab": {
          "base_uri": "https://localhost:8080/",
          "height": 295
        },
        "id": "rtQXrongxQrd",
        "outputId": "373554d3-ba67-4085-ef0b-1b61740634ec"
      },
      "source": [
        "plt.plot(history['train_acc'], label='train accuracy')\n",
        "plt.plot(history['val_acc'], label='validation accuracy')\n",
        "\n",
        "plt.title('Training history')\n",
        "plt.ylabel('Accuracy')\n",
        "plt.xlabel('Epoch')\n",
        "plt.legend()\n",
        "plt.ylim([0, 1]);"
      ],
      "execution_count": 39,
      "outputs": [
        {
          "output_type": "display_data",
          "data": {
            "image/png": "[encoded data removed]",
            "text/plain": [
              "<Figure size 432x288 with 1 Axes>"
            ]
          },
          "metadata": {
            "tags": [],
            "needs_background": "light"
          }
        }
      ]
    },
    {
      "cell_type": "code",
      "metadata": {
        "colab": {
          "base_uri": "https://localhost:8080/",
          "height": 295
        },
        "id": "7Id7qOsDapTj",
        "outputId": "fa8fe2cf-371d-4093-8874-65c267eb8d06"
      },
      "source": [
        "plt.plot(history['train_loss'], label='train loss')\n",
        "plt.plot(history['val_loss'], label='validation loss')\n",
        "\n",
        "plt.title('Training history')\n",
        "plt.ylabel('loss')\n",
        "plt.xlabel('Epoch')\n",
        "plt.legend()\n",
        "plt.ylim([0, 1]);"
      ],
      "execution_count": 40,
      "outputs": [
        {
          "output_type": "display_data",
          "data": {
            "image/png": "[encoded data removed]",
            "text/plain": [
              "<Figure size 432x288 with 1 Axes>"
            ]
          },
          "metadata": {
            "tags": [],
            "needs_background": "light"
          }
        }
      ]
    },
    {
      "cell_type": "markdown",
      "metadata": {
        "id": "qX5JTQ0I7I1C"
      },
      "source": [
        "### Evaluation"
      ]
    },
    {
      "cell_type": "code",
      "metadata": {
        "id": "5acg__AT6Qnv"
      },
      "source": [
        "model = model = BertForSequenceClassification.from_pretrained(\n",
        "    \"bert-base-cased\", \n",
        "    num_labels = 2,  \n",
        "    output_attentions = False, \n",
        "    output_hidden_states = False,\n",
        ")\n",
        "model.load_state_dict(torch.load('best_model_state.bin'))\n",
        "model.cuda()  # or model = model.to(device)"
      ],
      "execution_count": null,
      "outputs": []
    },
    {
      "cell_type": "code",
      "metadata": {
        "id": "WQF9Lap0-SEm"
      },
      "source": [
        "def get_predictions(model, data_loader, target=True):\n",
        "    model = model.eval()\n",
        "    \n",
        "    review_texts = []\n",
        "    predictions = []\n",
        "    prediction_probs = []\n",
        "    real_values = []\n",
        "\n",
        "    with torch.no_grad():\n",
        "        if target == True:\n",
        "            for d in data_loader:\n",
        "                b_texts = d[\"text\"]\n",
        "                b_input_ids = d[\"input_ids\"].to(device)\n",
        "                b_input_mask = d[\"attention_mask\"].to(device)\n",
        "                b_labels = d[\"targets\"].to(device)\n",
        "\n",
        "                outputs = model(\n",
        "                  input_ids=b_input_ids,\n",
        "                  attention_mask=b_input_mask\n",
        "                )\n",
        "                logits = outputs.logits\n",
        "                _, b_preds = torch.max(logits, dim=1)\n",
        "                b_probs = F.softmax(logits, dim=1)\n",
        "\n",
        "                review_texts.extend(b_texts)\n",
        "                predictions.extend(b_preds)\n",
        "                prediction_probs.extend(b_probs)\n",
        "                real_values.extend(b_labels)\n",
        "\n",
        "            predictions = torch.stack(predictions).cpu()\n",
        "            prediction_probs = torch.stack(prediction_probs).cpu()\n",
        "            real_values = torch.stack(real_values).cpu()\n",
        "\n",
        "            return review_texts, predictions, prediction_probs, real_values\n",
        "\n",
        "\n",
        "        else:\n",
        "            for d in data_loader:\n",
        "\n",
        "                b_texts = d[\"text\"]\n",
        "                b_input_ids = d[\"input_ids\"].to(device)\n",
        "                b_input_mask = d[\"attention_mask\"].to(device)\n",
        "\n",
        "                outputs = model(\n",
        "                  input_ids=b_input_ids,\n",
        "                  attention_mask=b_input_mask\n",
        "                )\n",
        "                logits = outputs.logits\n",
        "                _, b_preds = torch.max(logits, dim=1)\n",
        "                b_probs = F.softmax(logits, dim=1)\n",
        "\n",
        "                review_texts.extend(b_texts)\n",
        "                predictions.extend(b_preds)\n",
        "                prediction_probs.extend(b_probs)\n",
        "\n",
        "            predictions = torch.stack(predictions).cpu()\n",
        "            prediction_probs = torch.stack(prediction_probs).cpu()\n",
        "\n",
        "            return review_texts, predictions, prediction_probs"
      ],
      "execution_count": 42,
      "outputs": []
    },
    {
      "cell_type": "code",
      "metadata": {
        "id": "kkLJZQqlBzQ8"
      },
      "source": [
        "texts, predictions, prediction_probs, target = get_predictions(model, test_data_loader, target=True)"
      ],
      "execution_count": 51,
      "outputs": []
    },
    {
      "cell_type": "code",
      "metadata": {
        "colab": {
          "base_uri": "https://localhost:8080/"
        },
        "id": "yevS52ndGSeK",
        "outputId": "047c848d-54a5-468c-ad21-76d184430838"
      },
      "source": [
        "print(classification_report(df_test.target, predictions, target_names=['Non_disaster','disaster'] ))"
      ],
      "execution_count": 52,
      "outputs": [
        {
          "output_type": "stream",
          "text": [
            "              precision    recall  f1-score   support\n",
            "\n",
            "Non_disaster       0.83      0.86      0.85       635\n",
            "    disaster       0.82      0.78      0.80       507\n",
            "\n",
            "    accuracy                           0.83      1142\n",
            "   macro avg       0.83      0.82      0.82      1142\n",
            "weighted avg       0.83      0.83      0.83      1142\n",
            "\n"
          ],
          "name": "stdout"
        }
      ]
    },
    {
      "cell_type": "code",
      "metadata": {
        "colab": {
          "base_uri": "https://localhost:8080/",
          "height": 197
        },
        "id": "UyPmY_o_HAqz",
        "outputId": "87227328-649b-498c-af12-381971a9d323"
      },
      "source": [
        "df_pred = pd.DataFrame(\n",
        "    {'text': texts,\n",
        "     'target': target,\n",
        "     'prediction': predictions,\n",
        "     'prob': torch.max(prediction_probs,1).values\n",
        "    })\n",
        "df_pred.head()"
      ],
      "execution_count": 54,
      "outputs": [
        {
          "output_type": "execute_result",
          "data": {
            "text/html": [
              "<div>\n",
              "<style scoped>\n",
              "    .dataframe tbody tr th:only-of-type {\n",
              "        vertical-align: middle;\n",
              "    }\n",
              "\n",
              "    .dataframe tbody tr th {\n",
              "        vertical-align: top;\n",
              "    }\n",
              "\n",
              "    .dataframe thead th {\n",
              "        text-align: right;\n",
              "    }\n",
              "</style>\n",
              "<table border=\"1\" class=\"dataframe\">\n",
              "  <thead>\n",
              "    <tr style=\"text-align: right;\">\n",
              "      <th></th>\n",
              "      <th>text</th>\n",
              "      <th>target</th>\n",
              "      <th>prediction</th>\n",
              "      <th>prob</th>\n",
              "    </tr>\n",
              "  </thead>\n",
              "  <tbody>\n",
              "    <tr>\n",
              "      <th>0</th>\n",
              "      <td>Mega mood swing on a 24 hr schedule. Isn't t...</td>\n",
              "      <td>0</td>\n",
              "      <td>0</td>\n",
              "      <td>0.968840</td>\n",
              "    </tr>\n",
              "    <tr>\n",
              "      <th>1</th>\n",
              "      <td>Picking up flattened hay men ( in Wahpeton ND)</td>\n",
              "      <td>0</td>\n",
              "      <td>0</td>\n",
              "      <td>0.746116</td>\n",
              "    </tr>\n",
              "    <tr>\n",
              "      <th>2</th>\n",
              "      <td>52.214904 5.139055 Nuke please. Target Hilvers...</td>\n",
              "      <td>1</td>\n",
              "      <td>1</td>\n",
              "      <td>0.973733</td>\n",
              "    </tr>\n",
              "    <tr>\n",
              "      <th>3</th>\n",
              "      <td>Lose bus card.Panic.Kind bus driver.Replace bu...</td>\n",
              "      <td>0</td>\n",
              "      <td>0</td>\n",
              "      <td>0.942517</td>\n",
              "    </tr>\n",
              "    <tr>\n",
              "      <th>4</th>\n",
              "      <td>lol. U got wrecked</td>\n",
              "      <td>0</td>\n",
              "      <td>0</td>\n",
              "      <td>0.978289</td>\n",
              "    </tr>\n",
              "  </tbody>\n",
              "</table>\n",
              "</div>"
            ],
            "text/plain": [
              "                                                text  ...      prob\n",
              "0    Mega mood swing on a 24 hr schedule. Isn't t...  ...  0.968840\n",
              "1    Picking up flattened hay men ( in Wahpeton ND)   ...  0.746116\n",
              "2  52.214904 5.139055 Nuke please. Target Hilvers...  ...  0.973733\n",
              "3  Lose bus card.Panic.Kind bus driver.Replace bu...  ...  0.942517\n",
              "4                                 lol. U got wrecked  ...  0.978289\n",
              "\n",
              "[5 rows x 4 columns]"
            ]
          },
          "metadata": {
            "tags": []
          },
          "execution_count": 54
        }
      ]
    },
    {
      "cell_type": "code",
      "metadata": {
        "colab": {
          "base_uri": "https://localhost:8080/",
          "height": 407
        },
        "id": "nHIif4JcJ78K",
        "outputId": "126b62b7-68e4-49fc-d518-977fe6f569a6"
      },
      "source": [
        "df_pred.loc[df_pred.target!= df_pred.prediction]"
      ],
      "execution_count": 56,
      "outputs": [
        {
          "output_type": "execute_result",
          "data": {
            "text/html": [
              "<div>\n",
              "<style scoped>\n",
              "    .dataframe tbody tr th:only-of-type {\n",
              "        vertical-align: middle;\n",
              "    }\n",
              "\n",
              "    .dataframe tbody tr th {\n",
              "        vertical-align: top;\n",
              "    }\n",
              "\n",
              "    .dataframe thead th {\n",
              "        text-align: right;\n",
              "    }\n",
              "</style>\n",
              "<table border=\"1\" class=\"dataframe\">\n",
              "  <thead>\n",
              "    <tr style=\"text-align: right;\">\n",
              "      <th></th>\n",
              "      <th>text</th>\n",
              "      <th>target</th>\n",
              "      <th>prediction</th>\n",
              "      <th>prob</th>\n",
              "    </tr>\n",
              "  </thead>\n",
              "  <tbody>\n",
              "    <tr>\n",
              "      <th>6</th>\n",
              "      <td>Who is bringing the tornadoes and floods. Who ...</td>\n",
              "      <td>0</td>\n",
              "      <td>1</td>\n",
              "      <td>0.992072</td>\n",
              "    </tr>\n",
              "    <tr>\n",
              "      <th>7</th>\n",
              "      <td>Two hours to get to a client meeting. Whirlwin...</td>\n",
              "      <td>1</td>\n",
              "      <td>0</td>\n",
              "      <td>0.974934</td>\n",
              "    </tr>\n",
              "    <tr>\n",
              "      <th>20</th>\n",
              "      <td>Wall of noise is one thing - but a wall of dus...</td>\n",
              "      <td>1</td>\n",
              "      <td>0</td>\n",
              "      <td>0.903317</td>\n",
              "    </tr>\n",
              "    <tr>\n",
              "      <th>38</th>\n",
              "      <td>listen to hurricane</td>\n",
              "      <td>1</td>\n",
              "      <td>0</td>\n",
              "      <td>0.769639</td>\n",
              "    </tr>\n",
              "    <tr>\n",
              "      <th>40</th>\n",
              "      <td>Diaporama : sixpenceee: Karymsky Lake is a cra...</td>\n",
              "      <td>0</td>\n",
              "      <td>1</td>\n",
              "      <td>0.812239</td>\n",
              "    </tr>\n",
              "    <tr>\n",
              "      <th>...</th>\n",
              "      <td>...</td>\n",
              "      <td>...</td>\n",
              "      <td>...</td>\n",
              "      <td>...</td>\n",
              "    </tr>\n",
              "    <tr>\n",
              "      <th>1118</th>\n",
              "      <td>what tribal Olap world pres:  How To Recognize...</td>\n",
              "      <td>0</td>\n",
              "      <td>1</td>\n",
              "      <td>0.931039</td>\n",
              "    </tr>\n",
              "    <tr>\n",
              "      <th>1124</th>\n",
              "      <td>I feel like accidents are just drawn to you b...</td>\n",
              "      <td>0</td>\n",
              "      <td>1</td>\n",
              "      <td>0.683352</td>\n",
              "    </tr>\n",
              "    <tr>\n",
              "      <th>1129</th>\n",
              "      <td>America like South Africa is a traumatised sic...</td>\n",
              "      <td>0</td>\n",
              "      <td>1</td>\n",
              "      <td>0.690882</td>\n",
              "    </tr>\n",
              "    <tr>\n",
              "      <th>1130</th>\n",
              "      <td>This liberal compassion is BS. A specific Fe...</td>\n",
              "      <td>0</td>\n",
              "      <td>1</td>\n",
              "      <td>0.975793</td>\n",
              "    </tr>\n",
              "    <tr>\n",
              "      <th>1131</th>\n",
              "      <td>Û÷Hijacker copsÛª back in the dock -</td>\n",
              "      <td>1</td>\n",
              "      <td>0</td>\n",
              "      <td>0.934502</td>\n",
              "    </tr>\n",
              "  </tbody>\n",
              "</table>\n",
              "<p>198 rows × 4 columns</p>\n",
              "</div>"
            ],
            "text/plain": [
              "                                                   text  ...      prob\n",
              "6     Who is bringing the tornadoes and floods. Who ...  ...  0.992072\n",
              "7     Two hours to get to a client meeting. Whirlwin...  ...  0.974934\n",
              "20    Wall of noise is one thing - but a wall of dus...  ...  0.903317\n",
              "38                                  listen to hurricane  ...  0.769639\n",
              "40    Diaporama : sixpenceee: Karymsky Lake is a cra...  ...  0.812239\n",
              "...                                                 ...  ...       ...\n",
              "1118  what tribal Olap world pres:  How To Recognize...  ...  0.931039\n",
              "1124   I feel like accidents are just drawn to you b...  ...  0.683352\n",
              "1129  America like South Africa is a traumatised sic...  ...  0.690882\n",
              "1130    This liberal compassion is BS. A specific Fe...  ...  0.975793\n",
              "1131           Û÷Hijacker copsÛª back in the dock -    ...  0.934502\n",
              "\n",
              "[198 rows x 4 columns]"
            ]
          },
          "metadata": {
            "tags": []
          },
          "execution_count": 56
        }
      ]
    },
    {
      "cell_type": "code",
      "metadata": {
        "id": "KWN63FcAF20l"
      },
      "source": [
        "texts, predictions, prediction_probs = get_predictions(model, sub_data_loader, target=False)"
      ],
      "execution_count": 57,
      "outputs": []
    },
    {
      "cell_type": "code",
      "metadata": {
        "colab": {
          "base_uri": "https://localhost:8080/",
          "height": 197
        },
        "id": "Yfjp_OwSHS_c",
        "outputId": "d942b4df-d9b5-4ef7-b6dd-9e6000ccd7d1"
      },
      "source": [
        "df_ = pd.DataFrame(\n",
        "    {'text': texts,\n",
        "     'prediction': predictions,\n",
        "     'prob': torch.max(prediction_probs,1).values\n",
        "    })\n",
        "df_.head()"
      ],
      "execution_count": 58,
      "outputs": [
        {
          "output_type": "execute_result",
          "data": {
            "text/html": [
              "<div>\n",
              "<style scoped>\n",
              "    .dataframe tbody tr th:only-of-type {\n",
              "        vertical-align: middle;\n",
              "    }\n",
              "\n",
              "    .dataframe tbody tr th {\n",
              "        vertical-align: top;\n",
              "    }\n",
              "\n",
              "    .dataframe thead th {\n",
              "        text-align: right;\n",
              "    }\n",
              "</style>\n",
              "<table border=\"1\" class=\"dataframe\">\n",
              "  <thead>\n",
              "    <tr style=\"text-align: right;\">\n",
              "      <th></th>\n",
              "      <th>text</th>\n",
              "      <th>prediction</th>\n",
              "      <th>prob</th>\n",
              "    </tr>\n",
              "  </thead>\n",
              "  <tbody>\n",
              "    <tr>\n",
              "      <th>0</th>\n",
              "      <td>Just happened a terrible car crash</td>\n",
              "      <td>1</td>\n",
              "      <td>0.996460</td>\n",
              "    </tr>\n",
              "    <tr>\n",
              "      <th>1</th>\n",
              "      <td>Heard about earthquake is different cities, st...</td>\n",
              "      <td>1</td>\n",
              "      <td>0.994308</td>\n",
              "    </tr>\n",
              "    <tr>\n",
              "      <th>2</th>\n",
              "      <td>there is a forest fire at spot pond, geese are...</td>\n",
              "      <td>1</td>\n",
              "      <td>0.995462</td>\n",
              "    </tr>\n",
              "    <tr>\n",
              "      <th>3</th>\n",
              "      <td>Apocalypse lighting. Spokane wildfires</td>\n",
              "      <td>1</td>\n",
              "      <td>0.997837</td>\n",
              "    </tr>\n",
              "    <tr>\n",
              "      <th>4</th>\n",
              "      <td>Typhoon Soudelor kills 28 in China and Taiwan</td>\n",
              "      <td>1</td>\n",
              "      <td>0.998594</td>\n",
              "    </tr>\n",
              "  </tbody>\n",
              "</table>\n",
              "</div>"
            ],
            "text/plain": [
              "                                                text  prediction      prob\n",
              "0                 Just happened a terrible car crash           1  0.996460\n",
              "1  Heard about earthquake is different cities, st...           1  0.994308\n",
              "2  there is a forest fire at spot pond, geese are...           1  0.995462\n",
              "3             Apocalypse lighting. Spokane wildfires           1  0.997837\n",
              "4      Typhoon Soudelor kills 28 in China and Taiwan           1  0.998594"
            ]
          },
          "metadata": {
            "tags": []
          },
          "execution_count": 58
        }
      ]
    },
    {
      "cell_type": "code",
      "metadata": {
        "id": "JSBpfpjJHcH9"
      },
      "source": [
        "df_ans = pd.concat([df_,df_sub],axis=1)"
      ],
      "execution_count": 60,
      "outputs": []
    },
    {
      "cell_type": "code",
      "metadata": {
        "id": "R116nwK7Hj3T"
      },
      "source": [
        "df_ans = df_ans[['id','prediction']]\n",
        "df_ans.columns = ['id','target']"
      ],
      "execution_count": 66,
      "outputs": []
    },
    {
      "cell_type": "code",
      "metadata": {
        "id": "jetjtas3IDjw"
      },
      "source": [
        "df_ans.to_csv('submission_cased.csv',index=False)"
      ],
      "execution_count": 69,
      "outputs": []
    },
    {
      "cell_type": "code",
      "metadata": {
        "colab": {
          "base_uri": "https://localhost:8080/",
          "height": 197
        },
        "id": "5fh9EFkiH6pf",
        "outputId": "4a2d98d5-9955-475b-8c17-1076fb7b2cf7"
      },
      "source": [
        "df_ans.head()"
      ],
      "execution_count": 67,
      "outputs": [
        {
          "output_type": "execute_result",
          "data": {
            "text/html": [
              "<div>\n",
              "<style scoped>\n",
              "    .dataframe tbody tr th:only-of-type {\n",
              "        vertical-align: middle;\n",
              "    }\n",
              "\n",
              "    .dataframe tbody tr th {\n",
              "        vertical-align: top;\n",
              "    }\n",
              "\n",
              "    .dataframe thead th {\n",
              "        text-align: right;\n",
              "    }\n",
              "</style>\n",
              "<table border=\"1\" class=\"dataframe\">\n",
              "  <thead>\n",
              "    <tr style=\"text-align: right;\">\n",
              "      <th></th>\n",
              "      <th>id</th>\n",
              "      <th>target</th>\n",
              "    </tr>\n",
              "  </thead>\n",
              "  <tbody>\n",
              "    <tr>\n",
              "      <th>0</th>\n",
              "      <td>0</td>\n",
              "      <td>1</td>\n",
              "    </tr>\n",
              "    <tr>\n",
              "      <th>1</th>\n",
              "      <td>2</td>\n",
              "      <td>1</td>\n",
              "    </tr>\n",
              "    <tr>\n",
              "      <th>2</th>\n",
              "      <td>3</td>\n",
              "      <td>1</td>\n",
              "    </tr>\n",
              "    <tr>\n",
              "      <th>3</th>\n",
              "      <td>9</td>\n",
              "      <td>1</td>\n",
              "    </tr>\n",
              "    <tr>\n",
              "      <th>4</th>\n",
              "      <td>11</td>\n",
              "      <td>1</td>\n",
              "    </tr>\n",
              "  </tbody>\n",
              "</table>\n",
              "</div>"
            ],
            "text/plain": [
              "   id  target\n",
              "0   0       1\n",
              "1   2       1\n",
              "2   3       1\n",
              "3   9       1\n",
              "4  11       1"
            ]
          },
          "metadata": {
            "tags": []
          },
          "execution_count": 67
        }
      ]
    }
  ]
}